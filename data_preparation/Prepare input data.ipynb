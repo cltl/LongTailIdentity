{
 "cells": [
  {
   "cell_type": "code",
   "execution_count": 1,
   "metadata": {
    "collapsed": true
   },
   "outputs": [],
   "source": [
    "import pickle\n",
    "import utils\n",
    "import json"
   ]
  },
  {
   "cell_type": "code",
   "execution_count": 2,
   "metadata": {
    "collapsed": true
   },
   "outputs": [],
   "source": [
    "aux_path='../data/tmp/auxiliary_data'\n",
    "all_docs_file = '%s/docs.conll' % aux_path # \n",
    "more_docs_file='%s/new.conll'  % aux_path #\n",
    "relevant_docs_file='%s/final_docs.p'  % aux_path # \n",
    "\n",
    "input_path='../data/input/partial'\n",
    "out_pickle = '%s/text/docs.p' % input_path"
   ]
  },
  {
   "cell_type": "markdown",
   "metadata": {},
   "source": [
    "### 1) Get and store texts to disk"
   ]
  },
  {
   "cell_type": "code",
   "execution_count": 3,
   "metadata": {
    "collapsed": true
   },
   "outputs": [],
   "source": [
    "# Load all necessary components\n",
    "all_docs_data=utils.load_conll_data(all_docs_file)\n",
    "\n",
    "more_docs_data=utils.load_conll_data(more_docs_file)\n",
    "\n",
    "with open(relevant_docs_file, 'rb') as f:\n",
    "    relevant_incdocs=pickle.load(f)\n",
    "    \n"
   ]
  },
  {
   "cell_type": "code",
   "execution_count": 4,
   "metadata": {
    "collapsed": true
   },
   "outputs": [],
   "source": [
    "# Merge initial and added documents\n",
    "for more_doc, more_doc_data in more_docs_data.items():\n",
    "    if more_doc not in all_docs_data.keys():\n",
    "        all_docs_data[more_doc]=more_doc_data"
   ]
  },
  {
   "cell_type": "code",
   "execution_count": 5,
   "metadata": {},
   "outputs": [
    {
     "name": "stdout",
     "output_type": "stream",
     "text": [
      "456\n"
     ]
    }
   ],
   "source": [
    "# Combine document IDs from all incidents\n",
    "relevant_docs=set()\n",
    "for inc, docs in relevant_incdocs.items():\n",
    "    relevant_docs |= set(docs)\n",
    "    \n",
    "print(len(relevant_docs))"
   ]
  },
  {
   "cell_type": "code",
   "execution_count": 6,
   "metadata": {},
   "outputs": [
    {
     "data": {
      "text/plain": [
       "456"
      ]
     },
     "execution_count": 6,
     "metadata": {},
     "output_type": "execute_result"
    }
   ],
   "source": [
    "# Keep only the data for the relevant documents\n",
    "docs_data={}\n",
    "for k,v in all_docs_data.items():\n",
    "    if k in relevant_docs:\n",
    "        docs_data[k]=all_docs_data[k]\n",
    "        \n",
    "len(docs_data)"
   ]
  },
  {
   "cell_type": "code",
   "execution_count": 7,
   "metadata": {},
   "outputs": [],
   "source": [
    "with open(out_pickle, 'wb') as p:\n",
    "    pickle.dump(docs_data, p)"
   ]
  },
  {
   "cell_type": "markdown",
   "metadata": {},
   "source": [
    "### 2) Increase ambiguity by giving everyone the same first or last name"
   ]
  },
  {
   "cell_type": "code",
   "execution_count": 8,
   "metadata": {
    "collapsed": true
   },
   "outputs": [],
   "source": [
    "gva_input_annotations_file = '%s/annotation/participants_input.p' % input_path"
   ]
  },
  {
   "cell_type": "markdown",
   "metadata": {},
   "source": [
    "#### 2a) Increase ambiguity by giving everyone the same first name"
   ]
  },
  {
   "cell_type": "code",
   "execution_count": 9,
   "metadata": {},
   "outputs": [],
   "source": [
    "new_first_name = \"John\"\n",
    "gva_samefirstname_annotations = '%s/annotation/participants_samefirstname.p' % input_path\n",
    "\n",
    "utils.create_ambiguous_data(gva_input_annotations_file, \n",
    "                      gva_samefirstname_annotations, \n",
    "                      new_firstname=new_first_name)"
   ]
  },
  {
   "cell_type": "markdown",
   "metadata": {},
   "source": [
    "#### 2b) Increase ambiguity by giving everyone the same last name"
   ]
  },
  {
   "cell_type": "code",
   "execution_count": 10,
   "metadata": {},
   "outputs": [],
   "source": [
    "new_last_name = \"Smith\"\n",
    "gva_samelastname_annotations = '%s/annotation/participants_samelastname.p' % input_path\n",
    "\n",
    "utils.create_ambiguous_data(gva_input_annotations_file, \n",
    "                      gva_samelastname_annotations, \n",
    "                      new_lastname=new_last_name)"
   ]
  },
  {
   "cell_type": "markdown",
   "metadata": {},
   "source": [
    "#### 2c) Increase ambiguity by giving everyone the same name"
   ]
  },
  {
   "cell_type": "code",
   "execution_count": 11,
   "metadata": {},
   "outputs": [],
   "source": [
    "new_name = \"John Smith\"\n",
    "gva_samename_annotations = '%s/annotation/participants_samename.p' % input_path\n",
    "\n",
    "utils.create_ambiguous_data(gva_input_annotations_file, \n",
    "                      gva_samename_annotations, \n",
    "                      new_name=new_name)"
   ]
  },
  {
   "cell_type": "code",
   "execution_count": null,
   "metadata": {},
   "outputs": [],
   "source": []
  },
  {
   "cell_type": "markdown",
   "metadata": {},
   "source": [
    "### 3. Transform gold data to JSON with cluster IDs"
   ]
  },
  {
   "cell_type": "markdown",
   "metadata": {},
   "source": [
    "#### 3.1 Obtain empty names"
   ]
  },
  {
   "cell_type": "code",
   "execution_count": 12,
   "metadata": {},
   "outputs": [],
   "source": [
    "def get_empty_names(gva_input_annotations_file):\n",
    "    empty_names=set()\n",
    "\n",
    "    gva_data=utils.load_pickle(gva_input_annotations_file)\n",
    "    for doc_id, doc_data in gva_data.items():\n",
    "        for part_id, part_data in doc_data.items():\n",
    "            if 'Name' not in part_data.keys() or not part_data['Name']:\n",
    "                print(doc_id, part_id)\n",
    "                empty_names.add(part_id)\n",
    "    return empty_names"
   ]
  },
  {
   "cell_type": "code",
   "execution_count": 13,
   "metadata": {},
   "outputs": [
    {
     "name": "stdout",
     "output_type": "stream",
     "text": [
      "5023fd87fcffa600ce5306da1ae7aa19 b848071b112108badfccd731b49f7a8d\n",
      "9897ff64ff1c41541dd9c4bdb3e2026b 730dadb6ff8df098d1855c483ae89f00\n",
      "9897ff64ff1c41541dd9c4bdb3e2026b 0964adc35543d31edbbd3f49fe58b387\n",
      "9897ff64ff1c41541dd9c4bdb3e2026b 2a26c39d7255166c951029be92833331\n",
      "9897ff64ff1c41541dd9c4bdb3e2026b 57b7ef5ea3fd474db48a2d2df6f2792a\n",
      "329f03de6e9aa5176d5ede16b043f84f bf9f9baa899f624090b6ee4f3e458fe3\n",
      "329f03de6e9aa5176d5ede16b043f84f 3139c57cba423dc96ed5e7bc05c3d421\n",
      "329f03de6e9aa5176d5ede16b043f84f 2b0f245a7a75812f263d21cab4075462\n",
      "329f03de6e9aa5176d5ede16b043f84f 1b8b34f4b63938b3ad105979d73b59a0\n"
     ]
    }
   ],
   "source": [
    "empty_names=get_empty_names(gva_input_annotations_file)"
   ]
  },
  {
   "cell_type": "code",
   "execution_count": 14,
   "metadata": {
    "collapsed": true
   },
   "outputs": [],
   "source": [
    "which_partition='partial'\n",
    "gold_file = '../data/gold/%s/participants_gold.p' % which_partition\n",
    "out_gold_file = '../data/gold/%s/participants.json' % which_partition\n",
    "\n",
    "with open(gold_file, 'rb') as g:\n",
    "    gold_data = pickle.load(g)"
   ]
  },
  {
   "cell_type": "code",
   "execution_count": 15,
   "metadata": {
    "collapsed": true
   },
   "outputs": [],
   "source": [
    "gold_json=utils.transform_gold_to_json(gold_data, skip_empty=True, empty_names=empty_names)"
   ]
  },
  {
   "cell_type": "code",
   "execution_count": 16,
   "metadata": {
    "collapsed": true
   },
   "outputs": [],
   "source": [
    "with open(out_gold_file, 'w') as w:\n",
    "    json.dump(gold_json, w)"
   ]
  },
  {
   "cell_type": "code",
   "execution_count": null,
   "metadata": {
    "collapsed": true
   },
   "outputs": [],
   "source": []
  }
 ],
 "metadata": {
  "kernelspec": {
   "display_name": "Python 3",
   "language": "python",
   "name": "python3"
  },
  "language_info": {
   "codemirror_mode": {
    "name": "ipython",
    "version": 3
   },
   "file_extension": ".py",
   "mimetype": "text/x-python",
   "name": "python",
   "nbconvert_exporter": "python",
   "pygments_lexer": "ipython3",
   "version": "3.7.2"
  }
 },
 "nbformat": 4,
 "nbformat_minor": 2
}

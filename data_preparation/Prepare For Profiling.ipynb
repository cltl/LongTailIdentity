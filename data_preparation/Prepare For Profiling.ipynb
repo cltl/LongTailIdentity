{
 "cells": [
  {
   "cell_type": "code",
   "execution_count": 1,
   "metadata": {},
   "outputs": [],
   "source": [
    "import pickle\n",
    "import glob\n",
    "import pandas as pd\n",
    "import json"
   ]
  },
  {
   "cell_type": "markdown",
   "metadata": {},
   "source": [
    "### 1. Prepare gold partial data"
   ]
  },
  {
   "cell_type": "code",
   "execution_count": 2,
   "metadata": {},
   "outputs": [],
   "source": [
    "partition='full'"
   ]
  },
  {
   "cell_type": "code",
   "execution_count": 3,
   "metadata": {},
   "outputs": [],
   "source": [
    "gold_input_file='../data/input/%s/annotation/participants_input.p' % partition\n",
    "if partition=='partial':\n",
    "    sys_input_file='../baselines/extracted_data/%s/participants_input.p' % partition\n",
    "else:\n",
    "    sys_input_file='../baselines/extracted_data/%s/extracted_data.p' % partition\n",
    "\n",
    "files=[sys_input_file, gold_input_file]\n",
    "#files=[gold_input_file]\n",
    "output_dir='profiler_input'"
   ]
  },
  {
   "cell_type": "code",
   "execution_count": 4,
   "metadata": {},
   "outputs": [],
   "source": [
    "properties=['native language' , 'ethnic group', 'cause of death', 'sex or gender', 'religion', 'member of political party', 'occupation', 'age group']"
   ]
  },
  {
   "cell_type": "code",
   "execution_count": 5,
   "metadata": {},
   "outputs": [],
   "source": [
    "def prepare_profiler_data(input_file, properties):\n",
    "    with open(input_file, 'rb') as f:\n",
    "        participants=pickle.load(f)\n",
    "\n",
    "    profiler_data=[]\n",
    "    for doc_id, doc_data in participants.items():\n",
    "        for part_id, part_data in doc_data.items():\n",
    "            part_for_profiler=['']*len(properties)\n",
    "            if 'Ethnicity' in part_data.keys():\n",
    "                v=part_data['Ethnicity'].strip()\n",
    "                if v.lower()=='african american':\n",
    "                    v='African American/Black'\n",
    "                if v.lower()=='white/caucascian' or v.lower()=='white':\n",
    "                    v='White/Caucasian'\n",
    "                if v.lower()=='hispanic/latin':\n",
    "                    v='Hispanic/Latin'\n",
    "                part_for_profiler[1]=v\n",
    "            if 'CauseOfDeath' in part_data.keys():\n",
    "                part_for_profiler[2]=part_data['CauseOfDeath'].strip()\n",
    "            if 'Gender' in part_data.keys():\n",
    "                part_for_profiler[3]=part_data['Gender'].strip().lower()\n",
    "            if 'Religion' in part_data.keys():\n",
    "                v=part_data['Religion'].strip()\n",
    "                v=v.capitalize()\n",
    "                if v.lower()=='christian':\n",
    "                    v='Christianity'\n",
    "                \n",
    "                part_for_profiler[4]=v\n",
    "            if 'Occupation' in part_data.keys():\n",
    "                part_for_profiler[6]=part_data['Occupation'].strip()\n",
    "            if 'Age' in part_data.keys():\n",
    "                part_for_profiler[7]=part_data['Age'].strip().lower()\n",
    "            profiler_data.append(part_for_profiler)\n",
    "    return profiler_data"
   ]
  },
  {
   "cell_type": "code",
   "execution_count": 6,
   "metadata": {},
   "outputs": [],
   "source": [
    "with open('../resources/gv_mappings.json', 'r') as r:\n",
    "    mappings=json.load(r)\n",
    "    \n",
    "#mappings"
   ]
  },
  {
   "cell_type": "code",
   "execution_count": 7,
   "metadata": {},
   "outputs": [],
   "source": [
    "def group_age(a):\n",
    "    if a<12:\n",
    "        return 'child 0-11'\n",
    "    elif a<18:\n",
    "        return 'teen 12-17'\n",
    "    elif a<65:\n",
    "        return 'adult 18-64'\n",
    "    else:\n",
    "        return 'senior 65+'"
   ]
  },
  {
   "cell_type": "code",
   "execution_count": 8,
   "metadata": {},
   "outputs": [],
   "source": [
    "def map_occupations(o):\n",
    "    mappings={'basketball': 'sports player', 'rugby': 'sports player', 'football player': 'sports player', 'sports': 'sports player'}\n",
    "    if o in mappings.keys():\n",
    "        return mappings[o]\n",
    "    else:\n",
    "        return ''"
   ]
  },
  {
   "cell_type": "code",
   "execution_count": 9,
   "metadata": {},
   "outputs": [],
   "source": [
    "def normalize_values(raw_data, debug=False):\n",
    "    \n",
    "    #debug=True\n",
    "    \n",
    "    clean_data=[]\n",
    "    for row in raw_data:\n",
    "        new_row=row\n",
    "        \n",
    "        cause_of_death=row[2]\n",
    "        if cause_of_death:\n",
    "            new_row[2]=cause_of_death.capitalize()\n",
    "            if new_row[2]=='Negligent':\n",
    "                new_row[2]='Accidental'\n",
    "            elif new_row[2] not in {'Intentional', 'Accidental', 'Suicide'}:\n",
    "                new_row[2]=''\n",
    "                \n",
    "        \n",
    "        age=row[7]\n",
    "        if age:\n",
    "            age_group=group_age(int(age))\n",
    "            new_row[7]=age_group\n",
    "        \n",
    "        occupation=row[6]\n",
    "        if occupation:\n",
    "            new_row[6]=map_occupations(occupation)\n",
    "            \n",
    "        if debug:\n",
    "            print(new_row)\n",
    "            input('continue?')\n",
    "        \n",
    "        clean_data.append(new_row)\n",
    "    return clean_data"
   ]
  },
  {
   "cell_type": "code",
   "execution_count": 10,
   "metadata": {},
   "outputs": [],
   "source": [
    "for f in files:\n",
    "    data=prepare_profiler_data(f, properties)\n",
    "    if 'extracted_data' in f: # system extracted file\n",
    "        data=normalize_values(data, False)\n",
    "        filename='%s_%s_%s' % ('auto', partition, f.split('/')[-1].replace('.p', '.tsv'))\n",
    "    else:\n",
    "        data=normalize_values(data, False)\n",
    "        filename='%s_%s_%s' % ('gold', partition, f.split('/')[-1].replace('.p', '.tsv'))\n",
    "    output_file='%s/%s' % (output_dir, filename)\n",
    "    with open(output_file, 'w') as w:\n",
    "        df = pd.DataFrame(data)\n",
    "        df.to_csv(output_file, sep='\\t', header=False, index=False)"
   ]
  },
  {
   "cell_type": "markdown",
   "metadata": {},
   "source": [
    "### 2. Prepare automatically extracted partial data"
   ]
  },
  {
   "cell_type": "code",
   "execution_count": null,
   "metadata": {},
   "outputs": [],
   "source": []
  }
 ],
 "metadata": {
  "kernelspec": {
   "display_name": "Python 3",
   "language": "python",
   "name": "python3"
  },
  "language_info": {
   "codemirror_mode": {
    "name": "ipython",
    "version": 3
   },
   "file_extension": ".py",
   "mimetype": "text/x-python",
   "name": "python",
   "nbconvert_exporter": "python",
   "pygments_lexer": "ipython3",
   "version": "3.6.6"
  }
 },
 "nbformat": 4,
 "nbformat_minor": 2
}

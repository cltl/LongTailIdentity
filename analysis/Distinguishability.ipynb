{
 "cells": [
  {
   "cell_type": "code",
   "execution_count": 148,
   "metadata": {},
   "outputs": [],
   "source": [
    "partition='full'\n",
    "extractor='gold'\n",
    "baselines={'exact', 'noclash'}"
   ]
  },
  {
   "cell_type": "code",
   "execution_count": 149,
   "metadata": {},
   "outputs": [],
   "source": [
    "import glob\n",
    "import pickle\n",
    "from collections import defaultdict, Counter\n",
    "import json"
   ]
  },
  {
   "cell_type": "code",
   "execution_count": 150,
   "metadata": {},
   "outputs": [],
   "source": [
    "gold_prop_dir='../data/input/%s/annotation' % partition\n",
    "auto_prop_dir='../systems/extracted_data/%s' % partition\n",
    "gold_file='../data/gold/%s/participants.json'\n",
    "baseline_dir='../data/system/%s/%s/' % (extractor, partition)\n",
    "profiler_dir='../data/system/%s_profiling/%s' % (extractor, partition)"
   ]
  },
  {
   "cell_type": "code",
   "execution_count": 151,
   "metadata": {},
   "outputs": [],
   "source": [
    "if extractor=='gold':\n",
    "    data_dir=gold_prop_dir\n",
    "else:\n",
    "    data_dir=auto_prop_dir"
   ]
  },
  {
   "cell_type": "markdown",
   "metadata": {},
   "source": [
    "# Questions we answer here\n",
    "* Number of pairwise comparisons\n",
    "* Number of non-distinguishable pairwise comparisons\n",
    "    * How many of these are actually the same entity?\n",
    "* From the ones that are distinguishable\n",
    "    * How many are resolved by the baselines\n",
    "    * How many are resolved by the profiler\n",
    "    * Is there any correlation between the distance and the usefulness of the profiler\n"
   ]
  },
  {
   "cell_type": "markdown",
   "metadata": {},
   "source": [
    "### 1. Get number of combinations that are unique or have presence of N"
   ]
  },
  {
   "cell_type": "code",
   "execution_count": 152,
   "metadata": {},
   "outputs": [],
   "source": [
    "keys=['Residence', 'Ethnicity', 'EducationLevel', 'MedicalCondition', 'BirthPlace', 'Gender', \n",
    "      'Age', 'Religion', 'PastConviction', 'CauseOfDeath', 'DeathPlace', 'DeathDate', 'Name']"
   ]
  },
  {
   "cell_type": "code",
   "execution_count": 153,
   "metadata": {},
   "outputs": [],
   "source": [
    "def create_key(props, keys):\n",
    "    the_key=[]\n",
    "    for k in keys:\n",
    "        if k in props.keys():\n",
    "            v=props[k].strip()\n",
    "        else:\n",
    "            v=''\n",
    "        the_key.append(v)\n",
    "    return tuple(the_key)"
   ]
  },
  {
   "cell_type": "code",
   "execution_count": 154,
   "metadata": {},
   "outputs": [],
   "source": [
    "def get_distribution(data):\n",
    "    counter=defaultdict(int)\n",
    "    for k, v in data.items():\n",
    "        counter[len(v)]+=1\n",
    "    return counter"
   ]
  },
  {
   "cell_type": "code",
   "execution_count": 155,
   "metadata": {},
   "outputs": [
    {
     "name": "stdout",
     "output_type": "stream",
     "text": [
      "../data/input/full/annotation/participants_input.p\n",
      "Number of unique combinations: 5358\n",
      "Distribution {\"1\": 1911, \"2\": 1643, \"3\": 870, \"4\": 358, \"5\": 188, \"6\": 114, \"7\": 61, \"8\": 37, \"9\": 16, \"10\": 135, \"11\": 9, \"12\": 5, \"17\": 9, \"28\": 1, \"35\": 1}\n",
      "../data/input/full/annotation/participants_samefirstname.p\n",
      "Number of unique combinations: 5204\n",
      "Distribution {\"1\": 1829, \"2\": 1604, \"3\": 844, \"4\": 356, \"5\": 188, \"6\": 119, \"7\": 67, \"8\": 40, \"9\": 18, \"10\": 108, \"11\": 10, \"12\": 5, \"13\": 2, \"15\": 2, \"17\": 9, \"24\": 1, \"77\": 1, \"297\": 1}\n",
      "../data/input/full/annotation/participants_samename.p\n",
      "Number of unique combinations: 2230\n",
      "Distribution {\"1\": 649, \"2\": 632, \"3\": 337, \"4\": 175, \"5\": 107, \"6\": 71, \"7\": 39, \"8\": 28, \"9\": 20, \"10\": 40, \"11\": 18, \"12\": 8, \"13\": 9, \"14\": 8, \"15\": 5, \"16\": 8, \"17\": 5, \"18\": 3, \"19\": 3, \"20\": 4, \"21\": 3, \"22\": 6, \"24\": 3, \"26\": 1, \"27\": 2, \"29\": 1, \"30\": 4, \"31\": 3, \"34\": 1, \"37\": 1, \"38\": 2, \"40\": 1, \"43\": 1, \"45\": 1, \"47\": 1, \"51\": 2, \"52\": 1, \"55\": 1, \"60\": 1, \"67\": 1, \"71\": 2, \"78\": 2, \"80\": 1, \"113\": 1, \"126\": 1, \"133\": 1, \"144\": 1, \"154\": 1, \"160\": 1, \"200\": 1, \"204\": 1, \"245\": 1, \"255\": 1, \"267\": 1, \"268\": 2, \"281\": 1, \"324\": 1, \"330\": 1, \"366\": 1, \"469\": 1, \"859\": 1}\n",
      "../data/input/full/annotation/participants_samelastname.p\n",
      "Number of unique combinations: 5205\n",
      "Distribution {\"1\": 1832, \"2\": 1587, \"3\": 854, \"4\": 360, \"5\": 201, \"6\": 112, \"7\": 63, \"8\": 40, \"9\": 16, \"10\": 109, \"11\": 11, \"12\": 5, \"14\": 2, \"15\": 1, \"17\": 9, \"24\": 1, \"77\": 1, \"297\": 1}\n"
     ]
    }
   ],
   "source": [
    "for input_file in glob.glob('%s/*.*' % data_dir):\n",
    "    with open(input_file, 'rb') as f:\n",
    "        data=pickle.load(f)\n",
    "        grouped_by_props=defaultdict(list)\n",
    "        for doc_id, doc_data in data.items():\n",
    "            for part_id, part_props in doc_data.items():\n",
    "                k=create_key(part_props, keys)\n",
    "                grouped_by_props[k].append(part_id)\n",
    "    print(input_file)\n",
    "    print('Number of unique combinations:', len(grouped_by_props.keys()))\n",
    "    print('Distribution', json.dumps(get_distribution(grouped_by_props), sort_keys=True))"
   ]
  },
  {
   "cell_type": "markdown",
   "metadata": {},
   "source": [
    "### 2. Distinguishability"
   ]
  },
  {
   "cell_type": "code",
   "execution_count": 156,
   "metadata": {},
   "outputs": [],
   "source": [
    "def analyze_grouped_data(grouped_by_name):\n",
    "    total_comparisons=0\n",
    "    undistinguishable=0\n",
    "    distinguishable=0\n",
    "    sufficient_to_distinguish=0\n",
    "\n",
    "    for name, parts in grouped_by_name.items():\n",
    "        for p1, p1_data  in parts.items():\n",
    "            for p2, p2_data in parts.items():\n",
    "                if p1>p2:\n",
    "                    total_comparisons+=1\n",
    "                    if p1_data==p2_data:\n",
    "                        undistinguishable+=1\n",
    "                    else:\n",
    "                        distinguishable+=1\n",
    "                        for index, e1 in enumerate(p1_data):\n",
    "                            e2=p2_data[index]\n",
    "                            if e1!=e2 and e1!='' and e2!='':\n",
    "                                sufficient_to_distinguish+=1\n",
    "                                break\n",
    "\n",
    "    profiler_role=distinguishable-sufficient_to_distinguish\n",
    "    print('Total pairwise comparisons for a same name', total_comparisons)\n",
    "    print('Out of these, %d are not distinguishable' % undistinguishable)\n",
    "    print('%d are distinguishable. From these, for %d there is already enough information in the properties to distinguish.' % \n",
    "          (distinguishable, sufficient_to_distinguish))\n",
    "    print('Hence, the profiler can only help in %d (%d %%) cases.' % (profiler_role, round(profiler_role*100/total_comparisons)))"
   ]
  },
  {
   "cell_type": "code",
   "execution_count": 157,
   "metadata": {},
   "outputs": [],
   "source": [
    "#chosen_keys=keys\n",
    "chosen_keys=['Ethnicity', 'Gender', 'Age', 'Religion', 'CauseOfDeath', 'Occupation']"
   ]
  },
  {
   "cell_type": "code",
   "execution_count": 159,
   "metadata": {},
   "outputs": [
    {
     "name": "stdout",
     "output_type": "stream",
     "text": [
      "../data/input/full/annotation/participants_input.p\n",
      "Total pairwise comparisons for a same name 23927\n",
      "Out of these, 21994 are not distinguishable\n",
      "1933 are distinguishable. From these, for 134 there is already enough information in the properties to distinguish.\n",
      "Hence, the profiler can only help in 1799 (8 %) cases.\n",
      "../data/input/full/annotation/participants_samefirstname.p\n",
      "Total pairwise comparisons for a same name 190774\n",
      "Out of these, 68790 are not distinguishable\n",
      "121984 are distinguishable. From these, for 72984 there is already enough information in the properties to distinguish.\n",
      "Hence, the profiler can only help in 49000 (26 %) cases.\n",
      "../data/input/full/annotation/participants_samename.p\n"
     ]
    },
    {
     "ename": "KeyboardInterrupt",
     "evalue": "",
     "output_type": "error",
     "traceback": [
      "\u001b[0;31m---------------------------------------------------------------------------\u001b[0m",
      "\u001b[0;31mKeyboardInterrupt\u001b[0m                         Traceback (most recent call last)",
      "\u001b[0;32m<ipython-input-159-1313abda6ad8>\u001b[0m in \u001b[0;36m<module>\u001b[0;34m\u001b[0m\n\u001b[1;32m     10\u001b[0m                 \u001b[0mgrouped_by_name\u001b[0m\u001b[0;34m[\u001b[0m\u001b[0mname\u001b[0m\u001b[0;34m]\u001b[0m\u001b[0;34m[\u001b[0m\u001b[0mpart_id\u001b[0m\u001b[0;34m]\u001b[0m\u001b[0;34m=\u001b[0m\u001b[0mk\u001b[0m\u001b[0;34m\u001b[0m\u001b[0m\n\u001b[1;32m     11\u001b[0m     \u001b[0mprint\u001b[0m\u001b[0;34m(\u001b[0m\u001b[0minput_file\u001b[0m\u001b[0;34m)\u001b[0m\u001b[0;34m\u001b[0m\u001b[0m\n\u001b[0;32m---> 12\u001b[0;31m     \u001b[0manalyze_grouped_data\u001b[0m\u001b[0;34m(\u001b[0m\u001b[0mgrouped_by_name\u001b[0m\u001b[0;34m)\u001b[0m\u001b[0;34m\u001b[0m\u001b[0m\n\u001b[0m\u001b[1;32m     13\u001b[0m \u001b[0;31m#    print('Number of unique combinations:', len(grouped_by_props.keys()))\u001b[0m\u001b[0;34m\u001b[0m\u001b[0;34m\u001b[0m\u001b[0m\n\u001b[1;32m     14\u001b[0m \u001b[0;31m#    print('Distribution', json.dumps(get_distribution(grouped_by_props), sort_keys=True))\u001b[0m\u001b[0;34m\u001b[0m\u001b[0;34m\u001b[0m\u001b[0m\n",
      "\u001b[0;32m<ipython-input-156-dee3fedc9bf9>\u001b[0m in \u001b[0;36manalyze_grouped_data\u001b[0;34m(grouped_by_name)\u001b[0m\n\u001b[1;32m     18\u001b[0m                             \u001b[0;32mif\u001b[0m \u001b[0me1\u001b[0m\u001b[0;34m!=\u001b[0m\u001b[0me2\u001b[0m \u001b[0;32mand\u001b[0m \u001b[0me1\u001b[0m\u001b[0;34m!=\u001b[0m\u001b[0;34m''\u001b[0m \u001b[0;32mand\u001b[0m \u001b[0me2\u001b[0m\u001b[0;34m!=\u001b[0m\u001b[0;34m''\u001b[0m\u001b[0;34m:\u001b[0m\u001b[0;34m\u001b[0m\u001b[0m\n\u001b[1;32m     19\u001b[0m                                 \u001b[0msufficient_to_distinguish\u001b[0m\u001b[0;34m+=\u001b[0m\u001b[0;36m1\u001b[0m\u001b[0;34m\u001b[0m\u001b[0m\n\u001b[0;32m---> 20\u001b[0;31m                                 \u001b[0;32mbreak\u001b[0m\u001b[0;34m\u001b[0m\u001b[0m\n\u001b[0m\u001b[1;32m     21\u001b[0m \u001b[0;34m\u001b[0m\u001b[0m\n\u001b[1;32m     22\u001b[0m     \u001b[0mprofiler_role\u001b[0m\u001b[0;34m=\u001b[0m\u001b[0mdistinguishable\u001b[0m\u001b[0;34m-\u001b[0m\u001b[0msufficient_to_distinguish\u001b[0m\u001b[0;34m\u001b[0m\u001b[0m\n",
      "\u001b[0;31mKeyboardInterrupt\u001b[0m: "
     ]
    }
   ],
   "source": [
    "for input_file in glob.glob('%s/*.*' % data_dir):\n",
    "    with open(input_file, 'rb') as f:\n",
    "        data=pickle.load(f)\n",
    "        grouped_by_name=defaultdict(dict)\n",
    "        for doc_id, doc_data in data.items():\n",
    "            for part_id, part_props in doc_data.items():\n",
    "                if 'Name' not in part_props.keys() or not part_props['Name'].strip(): continue\n",
    "                name=part_props['Name'].strip()\n",
    "                k=create_key(part_props, chosen_keys)\n",
    "                grouped_by_name[name][part_id]=k\n",
    "    print(input_file)\n",
    "    analyze_grouped_data(grouped_by_name)\n",
    "#    print('Number of unique combinations:', len(grouped_by_props.keys()))\n",
    "#    print('Distribution', json.dumps(get_distribution(grouped_by_props), sort_keys=True))"
   ]
  },
  {
   "cell_type": "markdown",
   "metadata": {},
   "source": [
    "### 3. Next steps\n",
    "How many of the open cases are same vs not the same?\n",
    "How does this relate to the exact baseline?\n",
    "How does this relate to the noclash baseline?\n",
    "How does this relate to the profiler behavior?\n",
    "Is there any correlation between the properties distance and the usefulness of the profiler? - might be tricky to quantify\n",
    "\n",
    "\n",
    "#### Analyze the performance of the baselines on the distinguishable ones"
   ]
  },
  {
   "cell_type": "code",
   "execution_count": null,
   "metadata": {},
   "outputs": [],
   "source": []
  },
  {
   "cell_type": "markdown",
   "metadata": {},
   "source": [
    "#### Analyze the performance of the profiler on the distinguishable ones"
   ]
  },
  {
   "cell_type": "code",
   "execution_count": null,
   "metadata": {},
   "outputs": [],
   "source": []
  }
 ],
 "metadata": {
  "kernelspec": {
   "display_name": "Python 3",
   "language": "python",
   "name": "python3"
  },
  "language_info": {
   "codemirror_mode": {
    "name": "ipython",
    "version": 3
   },
   "file_extension": ".py",
   "mimetype": "text/x-python",
   "name": "python",
   "nbconvert_exporter": "python",
   "pygments_lexer": "ipython3",
   "version": "3.6.6"
  }
 },
 "nbformat": 4,
 "nbformat_minor": 2
}

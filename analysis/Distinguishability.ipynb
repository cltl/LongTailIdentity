{
 "cells": [
  {
   "cell_type": "code",
   "execution_count": 1,
   "metadata": {},
   "outputs": [],
   "source": [
    "partition='full'\n",
    "extractor='auto'\n",
    "baselines={'exact', 'noclash'}"
   ]
  },
  {
   "cell_type": "code",
   "execution_count": 2,
   "metadata": {},
   "outputs": [],
   "source": [
    "import glob\n",
    "import pickle\n",
    "from collections import defaultdict, Counter\n",
    "import json"
   ]
  },
  {
   "cell_type": "code",
   "execution_count": 3,
   "metadata": {},
   "outputs": [],
   "source": [
    "#input files\n",
    "gold_prop_dir='../data/input/%s/annotation' % partition\n",
    "auto_prop_dir='../systems/extracted_data/%s' % partition\n",
    "\n",
    "# gold file\n",
    "gold_file='../data/gold/%s/participants.json' % partition\n",
    "\n",
    "# system files\n",
    "baseline_dir='../data/system/%s/%s/' % (extractor, partition)\n",
    "profiler_dir='../data/system/%s_profiling/%s' % (extractor, partition)"
   ]
  },
  {
   "cell_type": "code",
   "execution_count": 4,
   "metadata": {},
   "outputs": [],
   "source": [
    "if extractor=='gold':\n",
    "    data_dir=gold_prop_dir\n",
    "else:\n",
    "    data_dir=auto_prop_dir"
   ]
  },
  {
   "cell_type": "markdown",
   "metadata": {},
   "source": [
    "### 1. Get number of combinations that are unique or have presence of N"
   ]
  },
  {
   "cell_type": "code",
   "execution_count": 5,
   "metadata": {},
   "outputs": [],
   "source": [
    "keys=['Residence', 'Ethnicity', 'EducationLevel', 'MedicalCondition', 'BirthPlace', 'Gender', \n",
    "      'Age', 'Religion', 'PastConviction', 'CauseOfDeath', 'DeathPlace', 'DeathDate', 'Name']"
   ]
  },
  {
   "cell_type": "code",
   "execution_count": 6,
   "metadata": {},
   "outputs": [],
   "source": [
    "def create_key(props, keys):\n",
    "    the_key=[]\n",
    "    for k in keys:\n",
    "        if k in props.keys():\n",
    "            v=props[k].strip()\n",
    "        else:\n",
    "            v=''\n",
    "        the_key.append(v)\n",
    "    return tuple(the_key)"
   ]
  },
  {
   "cell_type": "code",
   "execution_count": 7,
   "metadata": {},
   "outputs": [],
   "source": [
    "def get_distribution(data):\n",
    "    counter=defaultdict(int)\n",
    "    for k, v in data.items():\n",
    "        counter[len(v)]+=1\n",
    "    return counter"
   ]
  },
  {
   "cell_type": "code",
   "execution_count": 8,
   "metadata": {},
   "outputs": [
    {
     "name": "stdout",
     "output_type": "stream",
     "text": [
      "../systems/extracted_data/full/participants_input.p\n",
      "Number of unique combinations: 8064\n",
      "Distribution {\"1\": 5718, \"2\": 1253, \"3\": 512, \"4\": 192, \"5\": 111, \"6\": 71, \"7\": 40, \"8\": 26, \"9\": 28, \"10\": 102, \"11\": 3, \"12\": 1, \"13\": 1, \"16\": 2, \"17\": 2, \"21\": 1, \"41\": 1}\n",
      "../systems/extracted_data/full/participants_samefirstname.p\n",
      "Number of unique combinations: 6848\n",
      "Distribution {\"1\": 4894, \"2\": 932, \"3\": 391, \"4\": 177, \"5\": 110, \"6\": 72, \"7\": 50, \"8\": 34, \"9\": 20, \"10\": 79, \"11\": 14, \"12\": 7, \"13\": 12, \"14\": 6, \"15\": 8, \"16\": 2, \"17\": 8, \"18\": 2, \"19\": 1, \"20\": 1, \"21\": 5, \"22\": 2, \"23\": 3, \"24\": 1, \"25\": 1, \"27\": 1, \"31\": 1, \"32\": 2, \"33\": 1, \"38\": 2, \"39\": 1, \"54\": 1, \"63\": 1, \"67\": 1, \"75\": 1, \"76\": 1, \"84\": 1, \"90\": 1, \"355\": 1}\n",
      "../systems/extracted_data/full/participants_samename.p\n",
      "Number of unique combinations: 1600\n",
      "Distribution {\"1\": 1149, \"2\": 199, \"3\": 64, \"4\": 37, \"5\": 16, \"6\": 13, \"7\": 14, \"8\": 12, \"9\": 7, \"10\": 10, \"11\": 9, \"12\": 6, \"13\": 8, \"14\": 4, \"15\": 4, \"16\": 4, \"17\": 1, \"18\": 3, \"19\": 5, \"20\": 3, \"21\": 1, \"22\": 2, \"23\": 2, \"24\": 3, \"26\": 1, \"29\": 1, \"30\": 1, \"31\": 1, \"32\": 2, \"37\": 1, \"39\": 1, \"40\": 1, \"43\": 1, \"44\": 1, \"47\": 1, \"52\": 2, \"55\": 1, \"58\": 1, \"60\": 1, \"63\": 2, \"67\": 2, \"71\": 1, \"152\": 1, \"8999\": 1}\n",
      "../systems/extracted_data/full/participants_samelastname.p\n",
      "Number of unique combinations: 6934\n",
      "Distribution {\"1\": 4949, \"2\": 930, \"3\": 397, \"4\": 175, \"5\": 117, \"6\": 67, \"7\": 54, \"8\": 42, \"9\": 36, \"10\": 76, \"11\": 13, \"12\": 17, \"13\": 6, \"14\": 6, \"15\": 10, \"16\": 5, \"17\": 3, \"18\": 3, \"19\": 4, \"20\": 1, \"21\": 2, \"22\": 4, \"23\": 1, \"24\": 2, \"26\": 2, \"28\": 1, \"29\": 1, \"31\": 1, \"33\": 1, \"35\": 1, \"37\": 1, \"38\": 1, \"43\": 1, \"45\": 1, \"47\": 1, \"56\": 1, \"355\": 1}\n",
      "../systems/extracted_data/full/extracted_data.p\n",
      "Number of unique combinations: 8064\n",
      "Distribution {\"1\": 5718, \"2\": 1253, \"3\": 512, \"4\": 192, \"5\": 111, \"6\": 71, \"7\": 40, \"8\": 26, \"9\": 28, \"10\": 102, \"11\": 3, \"12\": 1, \"13\": 1, \"16\": 2, \"17\": 2, \"21\": 1, \"41\": 1}\n"
     ]
    }
   ],
   "source": [
    "for input_file in glob.glob('%s/*.*' % data_dir):\n",
    "    with open(input_file, 'rb') as f:\n",
    "        data=pickle.load(f)\n",
    "        grouped_by_props=defaultdict(list)\n",
    "        for doc_id, doc_data in data.items():\n",
    "            for part_id, part_props in doc_data.items():\n",
    "                k=create_key(part_props, keys)\n",
    "                grouped_by_props[k].append(part_id)\n",
    "    print(input_file)\n",
    "    print('Number of unique combinations:', len(grouped_by_props.keys()))\n",
    "    print('Distribution', json.dumps(get_distribution(grouped_by_props), sort_keys=True))"
   ]
  },
  {
   "cell_type": "markdown",
   "metadata": {},
   "source": [
    "### 2. Distinguishability\n",
    "If we group all data per name, how many comparisons are there to be made?\n",
    "How many comparisons are useless because of the property sets being exactly the same (`indistinguishable`)?\n",
    "How many comparisons have some distinguishing properties (`distinguishable`)? Out of these, how often is the information in these properties directly comparable and sufficient to discriminate (`sufficient`)?"
   ]
  },
  {
   "cell_type": "code",
   "execution_count": 9,
   "metadata": {},
   "outputs": [],
   "source": [
    "def analyze_grouped_data(grouped_by_name):\n",
    "    total_comparisons=0\n",
    "    indistinguishable=0\n",
    "    distinguishable=0\n",
    "    sufficient_to_distinguish=0\n",
    "    \n",
    "    set_indistinguishable=set()\n",
    "    set_distinguishable=set()\n",
    "    set_sufficient=set()\n",
    "\n",
    "    for name, parts in grouped_by_name.items():\n",
    "        for p1, p1_data  in parts.items():\n",
    "            for p2, p2_data in parts.items():\n",
    "                if p1>p2:\n",
    "                    pair=(p1,p2)\n",
    "                    total_comparisons+=1\n",
    "                    if p1_data==p2_data:\n",
    "                        indistinguishable+=1\n",
    "                        set_indistinguishable.add(pair)\n",
    "                    else:\n",
    "                        distinguishable+=1\n",
    "                        set_distinguishable.add(pair)\n",
    "                        for index, e1 in enumerate(p1_data):\n",
    "                            e2=p2_data[index]\n",
    "                            if e1!=e2 and e1!='' and e2!='':\n",
    "                                sufficient_to_distinguish+=1\n",
    "                                set_sufficient.add(pair)\n",
    "                                break\n",
    "\n",
    "    profiler_role=distinguishable-sufficient_to_distinguish\n",
    "    print('Total pairwise comparisons for a same name', total_comparisons)\n",
    "    print('Out of these, %d are not distinguishable' % indistinguishable)\n",
    "    print('%d are distinguishable. From these, for %d there is already enough information in the properties to distinguish.' % \n",
    "          (distinguishable, sufficient_to_distinguish))\n",
    "    print('Hence, the profiler can only help in %d (%d %%) cases.' % (profiler_role, round(profiler_role*100/total_comparisons)))\n",
    "    \n",
    "    sets={'set_indistinguishable': set_indistinguishable, \n",
    "            'set_distinguishable': set_distinguishable, \n",
    "            'set_sufficient': set_sufficient}\n",
    "    return sets"
   ]
  },
  {
   "cell_type": "code",
   "execution_count": 10,
   "metadata": {},
   "outputs": [],
   "source": [
    "\n",
    "if extractor=='auto':\n",
    "    chosen_keys=keys\n",
    "else:\n",
    "    chosen_keys=['Ethnicity', 'Gender', 'Age', 'Religion', 'CauseOfDeath', 'Occupation']"
   ]
  },
  {
   "cell_type": "code",
   "execution_count": 11,
   "metadata": {},
   "outputs": [],
   "source": [
    "def get_filename(f):\n",
    "    return f.split('/')[-1].split('.')[0]"
   ]
  },
  {
   "cell_type": "code",
   "execution_count": 12,
   "metadata": {},
   "outputs": [
    {
     "name": "stdout",
     "output_type": "stream",
     "text": [
      "../systems/extracted_data/full/participants_input.p\n",
      "Total pairwise comparisons for a same name 23927\n",
      "Out of these, 15133 are not distinguishable\n",
      "8794 are distinguishable. From these, for 563 there is already enough information in the properties to distinguish.\n",
      "Hence, the profiler can only help in 8231 (34 %) cases.\n",
      "../systems/extracted_data/full/participants_samefirstname.p\n",
      "Total pairwise comparisons for a same name 190774\n",
      "Out of these, 106049 are not distinguishable\n",
      "84725 are distinguishable. From these, for 9245 there is already enough information in the properties to distinguish.\n",
      "Hence, the profiler can only help in 75480 (40 %) cases.\n",
      "../systems/extracted_data/full/participants_samename.p\n",
      "Total pairwise comparisons for a same name 90511785\n",
      "Out of these, 40533195 are not distinguishable\n",
      "49978590 are distinguishable. From these, for 6247221 there is already enough information in the properties to distinguish.\n",
      "Hence, the profiler can only help in 43731369 (48 %) cases.\n",
      "../systems/extracted_data/full/participants_samelastname.p\n",
      "Total pairwise comparisons for a same name 155920\n",
      "Out of these, 92503 are not distinguishable\n",
      "63417 are distinguishable. From these, for 5986 there is already enough information in the properties to distinguish.\n",
      "Hence, the profiler can only help in 57431 (37 %) cases.\n",
      "../systems/extracted_data/full/extracted_data.p\n",
      "Total pairwise comparisons for a same name 23927\n",
      "Out of these, 15133 are not distinguishable\n",
      "8794 are distinguishable. From these, for 563 there is already enough information in the properties to distinguish.\n",
      "Hence, the profiler can only help in 8231 (34 %) cases.\n"
     ]
    }
   ],
   "source": [
    "input_sets={}\n",
    "for input_file in glob.glob('%s/*.*' % data_dir):\n",
    "    with open(input_file, 'rb') as f:\n",
    "        data=pickle.load(f)\n",
    "        grouped_by_name=defaultdict(dict)\n",
    "        for doc_id, doc_data in data.items():\n",
    "            for part_id, part_props in doc_data.items():\n",
    "                if 'Name' not in part_props.keys() or not part_props['Name'].strip(): continue\n",
    "                name=part_props['Name'].strip()\n",
    "                k=create_key(part_props, chosen_keys)\n",
    "                grouped_by_name[name][part_id]=k\n",
    "    print(input_file)\n",
    "    filename=get_filename(input_file)\n",
    "    input_sets[filename]=analyze_grouped_data(grouped_by_name)"
   ]
  },
  {
   "cell_type": "markdown",
   "metadata": {},
   "source": [
    "### 3. Next steps\n",
    "How many of the open cases are same vs not the same?\n",
    "\n",
    "How does this relate to the exact baseline?\n",
    "\n",
    "How does this relate to the noclash baseline?\n",
    "\n",
    "How does this relate to the profiler behavior?\n",
    "\n",
    "Is there any correlation between the properties distance and the usefulness of the profiler? - might be tricky to quantify\n",
    "\n",
    "\n"
   ]
  },
  {
   "cell_type": "markdown",
   "metadata": {},
   "source": [
    "#### 3.1 Load gold data"
   ]
  },
  {
   "cell_type": "code",
   "execution_count": 13,
   "metadata": {},
   "outputs": [],
   "source": [
    "def load_system_datasets(the_dir):\n",
    "    the_data={}\n",
    "    print(the_dir)\n",
    "    for f in glob.glob('%s/*.*' % the_dir):\n",
    "        with open(f, 'rb') as ff:\n",
    "            print(f)\n",
    "            fname=f.split('/')[-1].split('.')[0]\n",
    "            the_data[fname]=json.load(ff)\n",
    "    return the_data"
   ]
  },
  {
   "cell_type": "code",
   "execution_count": 14,
   "metadata": {},
   "outputs": [
    {
     "name": "stdout",
     "output_type": "stream",
     "text": [
      "../data/system/auto_profiling/full\n",
      "../data/system/auto_profiling/full/participants_samelastname.json\n",
      "../data/system/auto_profiling/full/participants_samefirstname.json\n",
      "../data/system/auto_profiling/full/participants_samename.json\n",
      "../data/system/auto_profiling/full/extracted_data.json\n",
      "../data/system/auto_profiling/full/participants_input.json\n",
      "../data/system/auto/full/noclash/p10\n",
      "../data/system/auto/full/noclash/p10/participants_samelastname.json\n",
      "../data/system/auto/full/noclash/p10/participants_samefirstname.json\n",
      "../data/system/auto/full/noclash/p10/participants_samename.json\n",
      "../data/system/auto/full/noclash/p10/extracted_data.json\n",
      "../data/system/auto/full/noclash/p10/participants_input.json\n",
      "../data/system/auto/full/exact/p10\n",
      "../data/system/auto/full/exact/p10/participants_samelastname.json\n",
      "../data/system/auto/full/exact/p10/participants_samefirstname.json\n",
      "../data/system/auto/full/exact/p10/participants_samename.json\n",
      "../data/system/auto/full/exact/p10/extracted_data.json\n",
      "../data/system/auto/full/exact/p10/participants_input.json\n"
     ]
    }
   ],
   "source": [
    "# load gold file\n",
    "with open (gold_file, 'rb') as gf:\n",
    "    gold_data=json.load(gf)\n",
    "\n",
    "profiler_data=load_system_datasets(profiler_dir)\n",
    "baseline_data={}\n",
    "for b in baselines:\n",
    "    ext_baseline_dir='%s%s/p10' % (baseline_dir, b)\n",
    "    baseline_data[b]=load_system_datasets(ext_baseline_dir)"
   ]
  },
  {
   "cell_type": "markdown",
   "metadata": {},
   "source": [
    "#### 3.2 Analyze the how many of the (in)distinguishable pairs are the same"
   ]
  },
  {
   "cell_type": "code",
   "execution_count": 15,
   "metadata": {},
   "outputs": [],
   "source": [
    "def analyze_performance_on_pairs(pairs):\n",
    "    same=0\n",
    "    different=0\n",
    "    for id1,id2 in pairs:\n",
    "        cluster_id1=gold_data[id1]\n",
    "        cluster_id2=gold_data[id2]\n",
    "        if cluster_id1==cluster_id2:\n",
    "            same+=1\n",
    "        else:\n",
    "            different+=1\n",
    "    return same, different"
   ]
  },
  {
   "cell_type": "code",
   "execution_count": 16,
   "metadata": {},
   "outputs": [
    {
     "name": "stdout",
     "output_type": "stream",
     "text": [
      "**********************************************************************\n",
      "participants_input set_indistinguishable\n",
      "Same: 13949 \n",
      "Different: 1184\n",
      "**********************************************************************\n",
      "participants_input set_distinguishable\n",
      "Same: 6987 \n",
      "Different: 1807\n",
      "**********************************************************************\n",
      "participants_input set_sufficient\n",
      "Same: 398 \n",
      "Different: 165\n",
      "**********************************************************************\n",
      "participants_samefirstname set_indistinguishable\n",
      "Same: 13949 \n",
      "Different: 92100\n",
      "**********************************************************************\n",
      "participants_samefirstname set_distinguishable\n",
      "Same: 6987 \n",
      "Different: 77738\n",
      "**********************************************************************\n",
      "participants_samefirstname set_sufficient\n",
      "Same: 398 \n",
      "Different: 8847\n",
      "**********************************************************************\n",
      "participants_samename set_indistinguishable\n",
      "Same: 13949 \n",
      "Different: 40519246\n",
      "**********************************************************************\n",
      "participants_samename set_distinguishable\n",
      "Same: 6987 \n",
      "Different: 49971603\n",
      "**********************************************************************\n",
      "participants_samename set_sufficient\n",
      "Same: 398 \n",
      "Different: 6246823\n",
      "**********************************************************************\n",
      "participants_samelastname set_indistinguishable\n",
      "Same: 13949 \n",
      "Different: 78554\n",
      "**********************************************************************\n",
      "participants_samelastname set_distinguishable\n",
      "Same: 6987 \n",
      "Different: 56430\n",
      "**********************************************************************\n",
      "participants_samelastname set_sufficient\n",
      "Same: 398 \n",
      "Different: 5588\n",
      "**********************************************************************\n",
      "extracted_data set_indistinguishable\n",
      "Same: 13949 \n",
      "Different: 1184\n",
      "**********************************************************************\n",
      "extracted_data set_distinguishable\n",
      "Same: 6987 \n",
      "Different: 1807\n",
      "**********************************************************************\n",
      "extracted_data set_sufficient\n",
      "Same: 398 \n",
      "Different: 165\n"
     ]
    }
   ],
   "source": [
    "for filename, sets in input_sets.items():\n",
    "    for set_name, the_set in sets.items():\n",
    "        same, different=analyze_performance_on_pairs(the_set)\n",
    "        print('*'*70)\n",
    "        print(filename, set_name)\n",
    "        print('Same: %d \\nDifferent: %d' % (same, different))"
   ]
  },
  {
   "cell_type": "markdown",
   "metadata": {},
   "source": [
    "#### 3.3 Analyze the system performance on the (in)distinguishable ones"
   ]
  },
  {
   "cell_type": "code",
   "execution_count": 17,
   "metadata": {},
   "outputs": [],
   "source": [
    "def get_decision(id1, id2, data):\n",
    "    cluster_id1=data[id1]\n",
    "    cluster_id2=data[id2]\n",
    "    return cluster_id1==cluster_id2"
   ]
  },
  {
   "cell_type": "code",
   "execution_count": 18,
   "metadata": {},
   "outputs": [],
   "source": [
    "def scores_vs_identity(gold_data, sys_data, pairs):\n",
    "    \n",
    "    acc_counts=defaultdict(int)\n",
    "    total_counts=defaultdict(int)\n",
    "    for id1,id2 in pairs:\n",
    "        sys_same=get_decision(id1, id2, sys_data)\n",
    "        gold_same=get_decision(id1, id2, gold_data)\n",
    "\n",
    "        if sys_same==gold_same: # both have voted for the same decision\n",
    "            acc_counts[(sys_same, gold_same)]+=1\n",
    "        total_counts[gold_same]+=1\n",
    "        \n",
    "    return acc_counts, total_counts"
   ]
  },
  {
   "cell_type": "code",
   "execution_count": 19,
   "metadata": {},
   "outputs": [],
   "source": [
    "def compute_acc(acc, total, gold_same=False):\n",
    "    if total[gold_same]>0:\n",
    "        return acc[(gold_same, gold_same)]*100.0/total[gold_same]\n",
    "    else:\n",
    "        return -1"
   ]
  },
  {
   "cell_type": "code",
   "execution_count": 20,
   "metadata": {},
   "outputs": [],
   "source": [
    "#sys_data=baseline_data['exact']\n",
    "sys_data=profiler_data"
   ]
  },
  {
   "cell_type": "code",
   "execution_count": 21,
   "metadata": {},
   "outputs": [
    {
     "name": "stdout",
     "output_type": "stream",
     "text": [
      "######################################################################\n",
      "participants_input set_indistinguishable\n",
      "Gold same acc: 100.00%\n",
      "Gold diff acc: 0.00%\n",
      "**************************************************\n",
      "participants_input set_distinguishable\n",
      "Gold same acc: 78.96%\n",
      "Gold diff acc: 59.60%\n",
      "**************************************************\n",
      "participants_input set_sufficient\n",
      "Gold same acc: 51.26%\n",
      "Gold diff acc: 74.55%\n",
      "**************************************************\n",
      "######################################################################\n",
      "participants_samefirstname set_indistinguishable\n",
      "Gold same acc: 100.00%\n",
      "Gold diff acc: 0.00%\n",
      "**************************************************\n",
      "participants_samefirstname set_distinguishable\n",
      "Gold same acc: 64.41%\n",
      "Gold diff acc: 62.46%\n",
      "**************************************************\n",
      "participants_samefirstname set_sufficient\n",
      "Gold same acc: 44.47%\n",
      "Gold diff acc: 70.44%\n",
      "**************************************************\n",
      "######################################################################\n",
      "participants_samename set_indistinguishable\n",
      "Gold same acc: 100.00%\n",
      "Gold diff acc: 0.00%\n",
      "**************************************************\n",
      "participants_samename set_distinguishable\n",
      "Gold same acc: 12.80%\n",
      "Gold diff acc: 89.28%\n",
      "**************************************************\n",
      "participants_samename set_sufficient\n",
      "Gold same acc: 26.63%\n",
      "Gold diff acc: 77.85%\n",
      "**************************************************\n",
      "######################################################################\n",
      "participants_samelastname set_indistinguishable\n",
      "Gold same acc: 100.00%\n",
      "Gold diff acc: 0.00%\n",
      "**************************************************\n",
      "participants_samelastname set_distinguishable\n",
      "Gold same acc: 67.21%\n",
      "Gold diff acc: 65.48%\n",
      "**************************************************\n",
      "participants_samelastname set_sufficient\n",
      "Gold same acc: 44.47%\n",
      "Gold diff acc: 70.49%\n",
      "**************************************************\n",
      "######################################################################\n",
      "extracted_data set_indistinguishable\n",
      "Gold same acc: 100.00%\n",
      "Gold diff acc: 0.00%\n",
      "**************************************************\n",
      "extracted_data set_distinguishable\n",
      "Gold same acc: 78.96%\n",
      "Gold diff acc: 59.60%\n",
      "**************************************************\n",
      "extracted_data set_sufficient\n",
      "Gold same acc: 51.26%\n",
      "Gold diff acc: 74.55%\n",
      "**************************************************\n"
     ]
    }
   ],
   "source": [
    "for filename, sets in input_sets.items():\n",
    "    print('#'*70)\n",
    "    if filename not in sys_data.keys(): continue\n",
    "    sys_predictions=sys_data[filename]\n",
    "    for set_name, the_set in sets.items():\n",
    "        print(filename, set_name)\n",
    "        acc_counts, total_counts=scores_vs_identity(gold_data, sys_predictions, the_set)\n",
    "        gold_same_acc=compute_acc(acc_counts, total_counts, gold_same=True)\n",
    "        gold_diff_acc=compute_acc(acc_counts, total_counts, gold_same=False)\n",
    "        print('Gold same acc: %.2f%%\\nGold diff acc: %.2f%%' % (gold_same_acc, gold_diff_acc))\n",
    "        print('*'*50)"
   ]
  },
  {
   "cell_type": "code",
   "execution_count": null,
   "metadata": {},
   "outputs": [],
   "source": []
  },
  {
   "cell_type": "code",
   "execution_count": null,
   "metadata": {},
   "outputs": [],
   "source": []
  }
 ],
 "metadata": {
  "kernelspec": {
   "display_name": "Python 3",
   "language": "python",
   "name": "python3"
  },
  "language_info": {
   "codemirror_mode": {
    "name": "ipython",
    "version": 3
   },
   "file_extension": ".py",
   "mimetype": "text/x-python",
   "name": "python",
   "nbconvert_exporter": "python",
   "pygments_lexer": "ipython3",
   "version": "3.6.6"
  }
 },
 "nbformat": 4,
 "nbformat_minor": 2
}

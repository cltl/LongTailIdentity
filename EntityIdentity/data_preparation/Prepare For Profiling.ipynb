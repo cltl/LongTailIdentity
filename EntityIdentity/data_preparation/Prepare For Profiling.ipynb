{
 "cells": [
  {
   "cell_type": "code",
   "execution_count": 1,
   "metadata": {},
   "outputs": [],
   "source": [
    "import pickle\n",
    "import glob\n",
    "import pandas as pd"
   ]
  },
  {
   "cell_type": "code",
   "execution_count": 2,
   "metadata": {},
   "outputs": [],
   "source": [
    "input_file='../data/input/partial/annotation/participants_input.p'\n",
    "files=[input_file]\n",
    "output_dir='profiler_input'"
   ]
  },
  {
   "cell_type": "code",
   "execution_count": 3,
   "metadata": {},
   "outputs": [],
   "source": [
    "properties=['native language' , 'ethnic group', 'cause of death', 'sex or gender', 'religion', 'member of political party', 'occupation', 'age group']"
   ]
  },
  {
   "cell_type": "code",
   "execution_count": 4,
   "metadata": {},
   "outputs": [],
   "source": [
    "def prepare_profiler_data(input_file, properties):\n",
    "    with open(input_file, 'rb') as f:\n",
    "        participants=pickle.load(f)\n",
    "\n",
    "    profiler_data=[]\n",
    "    for doc_id, doc_data in participants.items():\n",
    "        for part_id, part_data in doc_data.items():\n",
    "            part_for_profiler=['']*len(properties)\n",
    "            if 'Ethnicity' in part_data.keys():\n",
    "                v=part_data['Ethnicity'].strip()\n",
    "                if v=='African American':\n",
    "                    v='African American/Black'\n",
    "                if v=='White/Caucascian':\n",
    "                    v='White/Caucasian'\n",
    "                part_for_profiler[1]=v\n",
    "            if 'CauseOfDeath' in part_data.keys():\n",
    "                part_for_profiler[2]=part_data['CauseOfDeath'].strip()\n",
    "            if 'Gender' in part_data.keys():\n",
    "                part_for_profiler[3]=part_data['Gender'].strip().lower()\n",
    "            if 'Religion' in part_data.keys():\n",
    "                v=part_data['Religion'].strip()\n",
    "                if v=='Christian':\n",
    "                    v='Christianity'\n",
    "                part_for_profiler[4]=v\n",
    "            if 'Occupation' in part_data.keys():\n",
    "                part_for_profiler[6]=part_data['Occupation'].strip()\n",
    "            if 'Age' in part_data.keys():\n",
    "                part_for_profiler[7]=part_data['Age'].strip().lower()\n",
    "            profiler_data.append(part_for_profiler)\n",
    "    return profiler_data"
   ]
  },
  {
   "cell_type": "code",
   "execution_count": 5,
   "metadata": {},
   "outputs": [],
   "source": [
    "for f in files:\n",
    "    data=prepare_profiler_data(f, properties)\n",
    "    filename=f.split('/')[-1].replace('.p', '.tsv')\n",
    "    output_file='%s/%s' % (output_dir, filename)\n",
    "    with open(output_file, 'w') as w:\n",
    "        df = pd.DataFrame(data)\n",
    "        df.to_csv(output_file, sep='\\t', header=False, index=False)"
   ]
  },
  {
   "cell_type": "code",
   "execution_count": null,
   "metadata": {},
   "outputs": [],
   "source": []
  }
 ],
 "metadata": {
  "kernelspec": {
   "display_name": "Python 3",
   "language": "python",
   "name": "python3"
  },
  "language_info": {
   "codemirror_mode": {
    "name": "ipython",
    "version": 3
   },
   "file_extension": ".py",
   "mimetype": "text/x-python",
   "name": "python",
   "nbconvert_exporter": "python",
   "pygments_lexer": "ipython3",
   "version": "3.6.6"
  }
 },
 "nbformat": 4,
 "nbformat_minor": 2
}

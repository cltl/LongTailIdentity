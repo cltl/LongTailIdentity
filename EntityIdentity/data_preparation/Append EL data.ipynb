{
 "cells": [
  {
   "cell_type": "markdown",
   "metadata": {
    "collapsed": true
   },
   "source": [
    "# Expansion against existing EL corpora"
   ]
  },
  {
   "cell_type": "code",
   "execution_count": 1,
   "metadata": {
    "collapsed": true
   },
   "outputs": [],
   "source": [
    "import pickle\n",
    "import glob"
   ]
  },
  {
   "cell_type": "markdown",
   "metadata": {},
   "source": [
    "### 1) Get all names in GVA"
   ]
  },
  {
   "cell_type": "code",
   "execution_count": 2,
   "metadata": {
    "collapsed": true
   },
   "outputs": [],
   "source": [
    "input_path='../data/input'\n",
    "\n",
    "gva_input_annotations_file = '%s/annotation/participants_input.p' % input_path\n",
    "with open(gva_input_annotations_file, 'rb') as f:\n",
    "    gva_input_annotations = pickle.load(f)"
   ]
  },
  {
   "cell_type": "code",
   "execution_count": 3,
   "metadata": {
    "collapsed": true
   },
   "outputs": [],
   "source": [
    "all_names=set()\n",
    "names_list=[]\n",
    "for doc_id, data in gva_input_annotations.items():\n",
    "    for participant_id, participant_info in data.items():\n",
    "        if 'Name' in participant_info:\n",
    "            all_names.add(participant_info['Name'])\n",
    "            names_list.append(participant_info['Name'])"
   ]
  },
  {
   "cell_type": "code",
   "execution_count": 26,
   "metadata": {},
   "outputs": [
    {
     "data": {
      "text/plain": [
       "456"
      ]
     },
     "execution_count": 26,
     "metadata": {},
     "output_type": "execute_result"
    }
   ],
   "source": [
    "len(all_names)"
   ]
  },
  {
   "cell_type": "code",
   "execution_count": 33,
   "metadata": {},
   "outputs": [],
   "source": [
    "from collections import Counter\n",
    "\n",
    "cntr=Counter(names_list).most_common()"
   ]
  },
  {
   "cell_type": "markdown",
   "metadata": {},
   "source": [
    "### Find incidents for a participant"
   ]
  },
  {
   "cell_type": "code",
   "execution_count": 31,
   "metadata": {
    "collapsed": true
   },
   "outputs": [],
   "source": [
    "import json\n",
    "\n",
    "with open ('%s/str_data.json' % input_path) as f:\n",
    "    str_data=json.load(f)"
   ]
  },
  {
   "cell_type": "code",
   "execution_count": 37,
   "metadata": {},
   "outputs": [
    {
     "name": "stdout",
     "output_type": "stream",
     "text": [
      "Vincent Wainwright {'479709', '409732'}\n",
      "Henry Jackson {'533821', '97407'}\n",
      "Carl Johnson {'448419', '321156'}\n",
      "Quanisha Sims {'558618', '558601'}\n",
      "Omar Hamilton {'767876', '296327'}\n",
      "Daniel Munoz {'494072', '384047'}\n",
      "Allen Troyer {'389279', '502850'}\n",
      "Saeve Evans {'710200', '172205'}\n",
      "Tyquone Greer {'113247', '113214'}\n",
      "Ismael Moreno Jr. {'156813', '152722'}\n",
      "Ronald Williams {'481229', '387194', '510769', '588835'}\n",
      "Rakim Watson {'317165', '510769', '588835'}\n",
      "Lawrence Anderson {'732572', '735589'}\n"
     ]
    }
   ],
   "source": [
    "for participant_name, freq in cntr:\n",
    "    participant_name=participant_name.strip()\n",
    "    incs=set()\n",
    "    for inc, parts in str_data.items():\n",
    "        for part in parts:\n",
    "            if 'Name' in part and part['Name'].strip()==participant_name:\n",
    "                incs.add(inc)\n",
    "    if len(incs)>1:\n",
    "        print(participant_name, incs)"
   ]
  },
  {
   "cell_type": "markdown",
   "metadata": {},
   "source": [
    "### 2) Check for overlaps in EL datasets"
   ]
  },
  {
   "cell_type": "code",
   "execution_count": 18,
   "metadata": {
    "collapsed": true
   },
   "outputs": [],
   "source": [
    "def check_overlap(keys):\n",
    "    results=set()\n",
    "    for c in glob.glob('el_corpora/*.tsv'):\n",
    "        print(c)\n",
    "        with open(c, 'r') as rc:\n",
    "            for line in rc:\n",
    "                splits=line.split('\\t')\n",
    "                if splits[0].strip() in keys:\n",
    "                    results.add(tuple([c, splits[0], splits[1]]))\n",
    "    return results"
   ]
  },
  {
   "cell_type": "code",
   "execution_count": 19,
   "metadata": {},
   "outputs": [
    {
     "name": "stdout",
     "output_type": "stream",
     "text": [
      "el_corpora/AIDA-YAGO2_entities_and_links.tsv\n",
      "el_corpora/neel2015-test.tsv\n",
      "el_corpora/neel2014-test.tsv\n",
      "el_corpora/oke.tsv\n",
      "el_corpora/neel2014-train.tsv\n",
      "el_corpora/rss500-unicode.tsv\n",
      "el_corpora/wikinews.tsv\n",
      "el_corpora/wes2015.tsv\n",
      "el_corpora/neel2015-train.tsv\n",
      "el_corpora/neel2014.tsv\n",
      "el_corpora/rss500.tsv\n",
      "el_corpora/neel2015.tsv\n",
      "el_corpora/oke-testset.tsv\n",
      "el_corpora/neel2015-dev.tsv\n",
      "el_corpora/oke-trainingset.tsv\n"
     ]
    },
    {
     "data": {
      "text/plain": [
       "set()"
      ]
     },
     "execution_count": 19,
     "metadata": {},
     "output_type": "execute_result"
    }
   ],
   "source": [
    "result=check_overlap(all_names) # are full entity names found\n",
    "result"
   ]
  }
 ],
 "metadata": {
  "anaconda-cloud": {},
  "kernelspec": {
   "display_name": "Python 3",
   "language": "python",
   "name": "python3"
  },
  "language_info": {
   "codemirror_mode": {
    "name": "ipython",
    "version": 3
   },
   "file_extension": ".py",
   "mimetype": "text/x-python",
   "name": "python",
   "nbconvert_exporter": "python",
   "pygments_lexer": "ipython3",
   "version": "3.6.1"
  }
 },
 "nbformat": 4,
 "nbformat_minor": 1
}

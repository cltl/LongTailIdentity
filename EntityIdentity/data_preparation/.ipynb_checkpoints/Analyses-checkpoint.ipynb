{
 "cells": [
  {
   "cell_type": "code",
   "execution_count": 1,
   "metadata": {},
   "outputs": [],
   "source": [
    "import json\n",
    "from collections import Counter\n",
    "import sys\n",
    "import utils"
   ]
  },
  {
   "cell_type": "code",
   "execution_count": 2,
   "metadata": {
    "collapsed": true
   },
   "outputs": [],
   "source": [
    "input_path='../data/input'\n",
    "gva_input_annotations_file = '%s/annotation/participants_input.p' % input_path\n",
    "gva_samefirstname_annotations = '%s/annotation/participants_samefirstname.p' % input_path\n",
    "gva_samelastname_annotations = '%s/annotation/participants_samelastname.p' % input_path\n",
    "\n",
    "aux_path='auxiliary_data'\n",
    "str_data_path='%s/str_data.json' % aux_path"
   ]
  },
  {
   "cell_type": "markdown",
   "metadata": {},
   "source": [
    "### 1. Find participants with multiple incidents\n",
    "\n",
    "The original purpose of this was to find good examples for participants where the profiling could help establishing identity."
   ]
  },
  {
   "cell_type": "code",
   "execution_count": 3,
   "metadata": {},
   "outputs": [
    {
     "data": {
      "text/plain": [
       "456"
      ]
     },
     "execution_count": 3,
     "metadata": {},
     "output_type": "execute_result"
    }
   ],
   "source": [
    "names_set=utils.get_all_names_set(gva_input_annotations_file)\n",
    "len(names_set)"
   ]
  },
  {
   "cell_type": "code",
   "execution_count": 4,
   "metadata": {
    "collapsed": true
   },
   "outputs": [],
   "source": [
    "names_list=utils.get_all_names_list(gva_input_annotations_file)\n",
    "len(names_list)\n",
    "cntr=Counter(names_list).most_common()"
   ]
  },
  {
   "cell_type": "code",
   "execution_count": 5,
   "metadata": {},
   "outputs": [],
   "source": [
    "with open (str_data_path) as f:\n",
    "    str_data=json.load(f)"
   ]
  },
  {
   "cell_type": "code",
   "execution_count": 12,
   "metadata": {},
   "outputs": [
    {
     "name": "stdout",
     "output_type": "stream",
     "text": [
      "Vincent Wainwright {'409732', '479709'}\n",
      "Henry Jackson {'97407', '533821'}\n",
      "Carl Johnson {'448419', '321156'}\n",
      "Quanisha Sims {'558618', '558601'}\n",
      "Omar Hamilton {'767876', '296327'}\n",
      "Daniel Munoz {'384047', '494072'}\n",
      "Allen Troyer {'502850', '389279'}\n",
      "Saeve Evans {'172205', '710200'}\n",
      "Tyquone Greer {'113214', '113247'}\n",
      "Ismael Moreno Jr. {'156813', '152722'}\n",
      "Ronald Williams {'510769', '387194', '588835', '481229'}\n",
      "Rakim Watson {'510769', '588835', '317165'}\n",
      "Lawrence Anderson {'732572', '735589'}\n"
     ]
    }
   ],
   "source": [
    "part_incidents_pairs=0\n",
    "for participant_name, freq in cntr:\n",
    "    participant_name=participant_name.strip()\n",
    "    incs=set()\n",
    "    for inc, parts in str_data.items():\n",
    "        for part in parts:\n",
    "            if 'Name' in part and part['Name'].strip()==participant_name:\n",
    "                incs.add(inc)\n",
    "    if len(incs)>1:\n",
    "        print(participant_name, incs)\n",
    "    part_incidents_pairs+=len(incs)"
   ]
  },
  {
   "cell_type": "code",
   "execution_count": null,
   "metadata": {
    "collapsed": true
   },
   "outputs": [],
   "source": [
    "part_incidents_pairs\n"
   ]
  },
  {
   "cell_type": "markdown",
   "metadata": {},
   "source": [
    "### [TODO] Fix the data, by: merging the same participants with different names, and by adding BU data"
   ]
  },
  {
   "cell_type": "markdown",
   "metadata": {},
   "source": [
    "### 2. Compute ambiguity for the various datasets "
   ]
  },
  {
   "cell_type": "code",
   "execution_count": 7,
   "metadata": {},
   "outputs": [
    {
     "name": "stdout",
     "output_type": "stream",
     "text": [
      "Ambiguity:\n",
      "1.0350877192982457\n"
     ]
    }
   ],
   "source": [
    "print('Ambiguity:')\n",
    "print(part_incidents_pairs/len(names_set))"
   ]
  },
  {
   "cell_type": "code",
   "execution_count": 8,
   "metadata": {},
   "outputs": [
    {
     "data": {
      "text/plain": [
       "325"
      ]
     },
     "execution_count": 8,
     "metadata": {},
     "output_type": "execute_result"
    }
   ],
   "source": [
    "names_set_samefirst=utils.get_all_names_set(gva_samefirstname_annotations)\n",
    "len(names_set_samefirst)"
   ]
  },
  {
   "cell_type": "code",
   "execution_count": 9,
   "metadata": {},
   "outputs": [
    {
     "name": "stdout",
     "output_type": "stream",
     "text": [
      "1.4523076923076923\n"
     ]
    }
   ],
   "source": [
    "print(part_incidents_pairs/len(names_set_samefirst))"
   ]
  },
  {
   "cell_type": "code",
   "execution_count": 10,
   "metadata": {},
   "outputs": [
    {
     "data": {
      "text/plain": [
       "377"
      ]
     },
     "execution_count": 10,
     "metadata": {},
     "output_type": "execute_result"
    }
   ],
   "source": [
    "names_set_samelast=utils.get_all_names_set(gva_samelastname_annotations)\n",
    "len(names_set_samelast)"
   ]
  },
  {
   "cell_type": "code",
   "execution_count": 11,
   "metadata": {},
   "outputs": [
    {
     "name": "stdout",
     "output_type": "stream",
     "text": [
      "1.2519893899204244\n"
     ]
    }
   ],
   "source": [
    "print(part_incidents_pairs/len(names_set_samelast))"
   ]
  }
 ],
 "metadata": {
  "kernelspec": {
   "display_name": "Python 3",
   "language": "python",
   "name": "python3"
  },
  "language_info": {
   "codemirror_mode": {
    "name": "ipython",
    "version": 3
   },
   "file_extension": ".py",
   "mimetype": "text/x-python",
   "name": "python",
   "nbconvert_exporter": "python",
   "pygments_lexer": "ipython3",
   "version": "3.6.1"
  }
 },
 "nbformat": 4,
 "nbformat_minor": 2
}

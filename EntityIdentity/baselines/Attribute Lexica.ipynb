{
 "cells": [
  {
   "cell_type": "code",
   "execution_count": 41,
   "metadata": {
    "collapsed": true
   },
   "outputs": [],
   "source": [
    "from collections import defaultdict, Counter\n",
    "import json\n",
    "import pickle"
   ]
  },
  {
   "cell_type": "markdown",
   "metadata": {},
   "source": [
    "### 1. Extract attribute lists from Emiel's data"
   ]
  },
  {
   "cell_type": "code",
   "execution_count": 2,
   "metadata": {
    "collapsed": true
   },
   "outputs": [],
   "source": [
    "attributes=['age', 'ethnicity', 'religion']\n",
    "maybe=['height', 'weight', 'skin-color', 'skin-other', 'hair-style', 'hair-length', \n",
    "       'hair-color', 'eyes','fitness','occupation-or-social-group', 'disability']\n",
    "attributes+=maybe"
   ]
  },
  {
   "cell_type": "code",
   "execution_count": 3,
   "metadata": {
    "collapsed": true
   },
   "outputs": [],
   "source": [
    "data_dirs=['../../LabelingPeople/VisualGenome/resources/Categories',\n",
    "           '../../LabelingPeople/Flickr30k/resources/Categories']"
   ]
  },
  {
   "cell_type": "code",
   "execution_count": 4,
   "metadata": {
    "collapsed": true
   },
   "outputs": [],
   "source": [
    "values=defaultdict(set)\n",
    "for a in attributes:\n",
    "    for d in data_dirs:\n",
    "        file_path='%s/%s.txt' % (d, a)\n",
    "        try:\n",
    "            with open(file_path, 'r') as f:\n",
    "                data=f.read().strip().split('\\n')\n",
    "                values[a] |=set(data)\n",
    "        except FileNotFoundError:\n",
    "            continue"
   ]
  },
  {
   "cell_type": "code",
   "execution_count": 5,
   "metadata": {
    "collapsed": true
   },
   "outputs": [],
   "source": [
    "values_to_list={}\n",
    "for a, adata in values.items():\n",
    "    newdata=[]\n",
    "    for d in adata:\n",
    "        if d.strip()!='':\n",
    "            newdata.append(d)       \n",
    "    values_to_list[a]=newdata"
   ]
  },
  {
   "cell_type": "code",
   "execution_count": 6,
   "metadata": {
    "collapsed": true
   },
   "outputs": [],
   "source": [
    "with open('../resources/emiel.json', 'w') as w:\n",
    "    json.dump(values_to_list, w)"
   ]
  },
  {
   "cell_type": "markdown",
   "metadata": {
    "collapsed": true
   },
   "source": [
    "### 2. Extract vocabulary from our student annotation"
   ]
  },
  {
   "cell_type": "code",
   "execution_count": 15,
   "metadata": {
    "collapsed": true
   },
   "outputs": [],
   "source": [
    "annotation_files=['../resources/ann_areum_men.json', '../resources/ann_ngan_men.json']\n",
    "conll_dir='../data_preparation/auxiliary_data'\n",
    "conll_main='%s/docs.conll' % conll_dir\n",
    "conll_rest='%s/new.conll' % conll_dir"
   ]
  },
  {
   "cell_type": "code",
   "execution_count": 32,
   "metadata": {},
   "outputs": [],
   "source": [
    "incpart2str_file='../resources/participant_annotation.json'\n",
    "with open(incpart2str_file, 'r') as r:\n",
    "    part_strdata=json.load(r)"
   ]
  },
  {
   "cell_type": "code",
   "execution_count": 8,
   "metadata": {
    "collapsed": true
   },
   "outputs": [],
   "source": [
    "def build_id_to_text_index(conll_files):\n",
    "    index={}\n",
    "    for file in conll_files:\n",
    "        with open(file, 'r') as lines:\n",
    "            for line in lines:\n",
    "                if not line.startswith('#begin') and not line.startswith('#end'):\n",
    "                    line_data=line.split('\\t')\n",
    "                    token_id=line_data[0]\n",
    "                    form=line_data[1]\n",
    "                    index[token_id]=form\n",
    "    return index"
   ]
  },
  {
   "cell_type": "code",
   "execution_count": 9,
   "metadata": {
    "collapsed": true
   },
   "outputs": [],
   "source": [
    "index = build_id_to_text_index([conll_main, conll_rest])"
   ]
  },
  {
   "cell_type": "code",
   "execution_count": 10,
   "metadata": {
    "collapsed": true
   },
   "outputs": [],
   "source": [
    "def obtain_form_from_tokens(index, tokens):\n",
    "    form=[]\n",
    "    for t in tokens:\n",
    "        if t in index:\n",
    "            form.append(index[t])\n",
    "        else:\n",
    "            print(t)\n",
    "    return ' '.join(form)"
   ]
  },
  {
   "cell_type": "code",
   "execution_count": 39,
   "metadata": {},
   "outputs": [
    {
     "name": "stdout",
     "output_type": "stream",
     "text": [
      "EducationLevel not in {'CauseOfDeath': 'Accidental', 'Residence': 'Montana', 'Gender': ' Male', 'Age': 'Child 0-11', 'DeathPlace': 'Montana', 'Name': ' Lonato Moran-Allen', 'DeathDate': '2014'}\n",
      "EducationLevel not in {'CauseOfDeath': 'Accidental', 'Residence': 'Montana', 'Gender': ' Male', 'Age': 'Child 0-11', 'DeathPlace': 'Montana', 'Name': ' Lonato Moran-Allen', 'DeathDate': '2014'}\n",
      "EducationLevel not in {'CauseOfDeath': 'Accidental', 'Residence': 'Montana', 'Gender': ' Male', 'Age': 'Child 0-11', 'DeathPlace': 'Montana', 'Name': ' Lonato Moran-Allen', 'DeathDate': '2014'}\n",
      "EducationLevel not in {'CauseOfDeath': 'Accidental', 'Residence': 'Montana', 'Gender': ' Male', 'Age': 'Child 0-11', 'DeathPlace': 'Montana', 'Name': ' Lonato Moran-Allen', 'DeathDate': '2014'}\n",
      "EducationLevel not in {'CauseOfDeath': 'Accidental', 'Residence': 'Montana', 'Gender': ' Male', 'Age': 'Child 0-11', 'DeathPlace': 'Montana', 'Name': ' Lonato Moran-Allen', 'DeathDate': '2014'}\n",
      "EducationLevel not in {'CauseOfDeath': 'Accidental', 'Residence': 'Montana', 'Gender': ' Male', 'Age': 'Child 0-11', 'DeathPlace': 'Montana', 'Name': ' Lonato Moran-Allen', 'DeathDate': '2014'}\n",
      "EducationLevel not in {'CauseOfDeath': 'Accidental', 'Residence': 'Montana', 'Gender': ' Male', 'Age': 'Child 0-11', 'DeathPlace': 'Montana', 'Name': ' Lonato Moran-Allen', 'DeathDate': '2014'}\n",
      "EducationLevel not in {'CauseOfDeath': 'Accidental', 'Residence': 'Montana', 'Gender': ' Male', 'Age': 'Child 0-11', 'DeathPlace': 'Montana', 'Name': ' Lonato Moran-Allen', 'DeathDate': '2014'}\n",
      "EducationLevel not in {'CauseOfDeath': 'Accidental', 'Residence': 'Montana', 'Gender': ' Male', 'Age': 'Child 0-11', 'DeathPlace': 'Montana', 'Name': ' Lonato Moran-Allen', 'DeathDate': '2014'}\n",
      "Religion not in {'CauseOfDeath': 'Accidental', 'Residence': 'Montana', 'Gender': ' Male', 'Age': 'Child 0-11', 'DeathPlace': 'Montana', 'Name': ' Lonato Moran-Allen', 'DeathDate': '2014'}\n",
      "Religion not in {'CauseOfDeath': 'Accidental', 'Residence': 'Montana', 'Gender': ' Male', 'Age': 'Child 0-11', 'DeathPlace': 'Montana', 'Name': ' Lonato Moran-Allen', 'DeathDate': '2014'}\n",
      "Religion not in {'CauseOfDeath': 'Accidental', 'Residence': 'Montana', 'Gender': ' Male', 'Age': 'Child 0-11', 'DeathPlace': 'Montana', 'Name': ' Lonato Moran-Allen', 'DeathDate': '2014'}\n",
      "Religion not in {'CauseOfDeath': 'Accidental', 'Residence': 'Montana', 'Gender': ' Male', 'Age': 'Child 0-11', 'DeathPlace': 'Montana', 'Name': ' Lonato Moran-Allen', 'DeathDate': '2014'}\n",
      "Religion not in {'CauseOfDeath': 'Accidental', 'Residence': 'Montana', 'Gender': ' Male', 'Age': 'Child 0-11', 'DeathPlace': 'Montana', 'Name': ' Lonato Moran-Allen', 'DeathDate': '2014'}\n",
      "Religion not in {'CauseOfDeath': 'Accidental', 'Residence': 'Montana', 'Gender': ' Male', 'Age': 'Child 0-11', 'DeathPlace': 'Montana', 'Name': ' Lonato Moran-Allen', 'DeathDate': '2014'}\n",
      "Religion not in {'CauseOfDeath': 'Accidental', 'Residence': 'Montana', 'Gender': ' Male', 'Age': 'Child 0-11', 'DeathPlace': 'Montana', 'Name': ' Lonato Moran-Allen', 'DeathDate': '2014'}\n",
      "748f14771b3febdc874b7827d151b6e0.t1.16\n",
      "748f14771b3febdc874b7827d151b6e0.b1.34\n",
      "748f14771b3febdc874b7827d151b6e0.b9.3\n",
      "748f14771b3febdc874b7827d151b6e0.b9.4\n",
      "748f14771b3febdc874b7827d151b6e0.b9.3\n",
      "748f14771b3febdc874b7827d151b6e0.b9.4\n",
      "6c9fa7f335e78ca818125c626d3bc216.b8.8\n",
      "6c9fa7f335e78ca818125c626d3bc216.b8.9\n",
      "6c9fa7f335e78ca818125c626d3bc216.b8.8\n",
      "6c9fa7f335e78ca818125c626d3bc216.b8.9\n",
      "6c9fa7f335e78ca818125c626d3bc216.b9.2\n",
      "6c9fa7f335e78ca818125c626d3bc216.b11.11\n",
      "6c9fa7f335e78ca818125c626d3bc216.b11.12\n",
      "6c9fa7f335e78ca818125c626d3bc216.b11.11\n",
      "6c9fa7f335e78ca818125c626d3bc216.b11.12\n",
      "748f14771b3febdc874b7827d151b6e0.b1.47\n",
      "748f14771b3febdc874b7827d151b6e0.b1.54\n",
      "748f14771b3febdc874b7827d151b6e0.b1.47\n",
      "748f14771b3febdc874b7827d151b6e0.b1.54\n",
      "6c9fa7f335e78ca818125c626d3bc216.b13.11\n",
      "6c9fa7f335e78ca818125c626d3bc216.b13.12\n",
      "6c9fa7f335e78ca818125c626d3bc216.b13.11\n",
      "6c9fa7f335e78ca818125c626d3bc216.b13.12\n",
      "748f14771b3febdc874b7827d151b6e0.t1.6\n",
      "748f14771b3febdc874b7827d151b6e0.b1.26\n",
      "748f14771b3febdc874b7827d151b6e0.b1.57\n",
      "6c9fa7f335e78ca818125c626d3bc216.t1.6\n",
      "6c9fa7f335e78ca818125c626d3bc216.b1.20\n",
      "6c9fa7f335e78ca818125c626d3bc216.b1.29\n",
      "6c9fa7f335e78ca818125c626d3bc216.b1.30\n",
      "6c9fa7f335e78ca818125c626d3bc216.b1.31\n",
      "6c9fa7f335e78ca818125c626d3bc216.b1.32\n",
      "6c9fa7f335e78ca818125c626d3bc216.b1.33\n",
      "6c9fa7f335e78ca818125c626d3bc216.b1.29\n",
      "6c9fa7f335e78ca818125c626d3bc216.b1.30\n",
      "6c9fa7f335e78ca818125c626d3bc216.b1.31\n",
      "6c9fa7f335e78ca818125c626d3bc216.b1.32\n",
      "6c9fa7f335e78ca818125c626d3bc216.b1.33\n",
      "6c9fa7f335e78ca818125c626d3bc216.b1.29\n",
      "6c9fa7f335e78ca818125c626d3bc216.b1.30\n",
      "6c9fa7f335e78ca818125c626d3bc216.b1.31\n",
      "6c9fa7f335e78ca818125c626d3bc216.b1.32\n",
      "6c9fa7f335e78ca818125c626d3bc216.b1.33\n",
      "6c9fa7f335e78ca818125c626d3bc216.b1.29\n",
      "6c9fa7f335e78ca818125c626d3bc216.b1.30\n",
      "6c9fa7f335e78ca818125c626d3bc216.b1.31\n",
      "6c9fa7f335e78ca818125c626d3bc216.b1.32\n",
      "6c9fa7f335e78ca818125c626d3bc216.b1.33\n",
      "6c9fa7f335e78ca818125c626d3bc216.b1.29\n",
      "6c9fa7f335e78ca818125c626d3bc216.b1.30\n",
      "6c9fa7f335e78ca818125c626d3bc216.b1.31\n",
      "6c9fa7f335e78ca818125c626d3bc216.b1.32\n",
      "6c9fa7f335e78ca818125c626d3bc216.b1.33\n",
      "6c9fa7f335e78ca818125c626d3bc216.b4.8\n",
      "6c9fa7f335e78ca818125c626d3bc216.b4.9\n",
      "6c9fa7f335e78ca818125c626d3bc216.b4.8\n",
      "6c9fa7f335e78ca818125c626d3bc216.b4.9\n",
      "6c9fa7f335e78ca818125c626d3bc216.b9.6\n",
      "6c9fa7f335e78ca818125c626d3bc216.b8.3\n",
      "6c9fa7f335e78ca818125c626d3bc216.b13.17\n",
      "1a45d73a21522536c411807219ed553e.b9.3\n",
      "1a45d73a21522536c411807219ed553e.b9.5\n",
      "1a45d73a21522536c411807219ed553e.b9.3\n",
      "1a45d73a21522536c411807219ed553e.b9.5\n",
      "f016114ddb55b3f5c16fea2f8d1f2ec7.t1.3\n",
      "1a45d73a21522536c411807219ed553e.b17.21\n",
      "1a45d73a21522536c411807219ed553e.b9.15\n",
      "1a45d73a21522536c411807219ed553e.b2.16\n",
      "1a45d73a21522536c411807219ed553e.b9.9\n",
      "f016114ddb55b3f5c16fea2f8d1f2ec7.b4.4\n",
      "f016114ddb55b3f5c16fea2f8d1f2ec7.b10.9\n",
      "f016114ddb55b3f5c16fea2f8d1f2ec7.b11.6\n",
      "f016114ddb55b3f5c16fea2f8d1f2ec7.b10.4\n",
      "f016114ddb55b3f5c16fea2f8d1f2ec7.b10.5\n",
      "f016114ddb55b3f5c16fea2f8d1f2ec7.b10.4\n",
      "f016114ddb55b3f5c16fea2f8d1f2ec7.b10.5\n",
      "f5e081d0b616c05ba2c77dcc84df443a.t1.7\n",
      "f5e081d0b616c05ba2c77dcc84df443a.t1.9\n",
      "f5e081d0b616c05ba2c77dcc84df443a.t1.7\n",
      "f5e081d0b616c05ba2c77dcc84df443a.t1.9\n",
      "f5e081d0b616c05ba2c77dcc84df443a.b1.16\n",
      "f5e081d0b616c05ba2c77dcc84df443a.b1.18\n",
      "f5e081d0b616c05ba2c77dcc84df443a.b1.16\n",
      "f5e081d0b616c05ba2c77dcc84df443a.b1.18\n",
      "f5e081d0b616c05ba2c77dcc84df443a.b3.17\n",
      "f5e081d0b616c05ba2c77dcc84df443a.b3.19\n",
      "f5e081d0b616c05ba2c77dcc84df443a.b3.17\n",
      "f5e081d0b616c05ba2c77dcc84df443a.b3.19\n",
      "f5e081d0b616c05ba2c77dcc84df443a.b4.33\n",
      "f5e081d0b616c05ba2c77dcc84df443a.b4.34\n",
      "f5e081d0b616c05ba2c77dcc84df443a.b4.33\n",
      "f5e081d0b616c05ba2c77dcc84df443a.b4.34\n",
      "f5e081d0b616c05ba2c77dcc84df443a.b32.15\n",
      "f5e081d0b616c05ba2c77dcc84df443a.b32.16\n",
      "f5e081d0b616c05ba2c77dcc84df443a.b32.17\n",
      "f5e081d0b616c05ba2c77dcc84df443a.b32.18\n",
      "f5e081d0b616c05ba2c77dcc84df443a.b32.19\n",
      "f5e081d0b616c05ba2c77dcc84df443a.b32.15\n",
      "f5e081d0b616c05ba2c77dcc84df443a.b32.16\n",
      "f5e081d0b616c05ba2c77dcc84df443a.b32.17\n",
      "f5e081d0b616c05ba2c77dcc84df443a.b32.18\n",
      "f5e081d0b616c05ba2c77dcc84df443a.b32.19\n",
      "f5e081d0b616c05ba2c77dcc84df443a.b32.15\n",
      "f5e081d0b616c05ba2c77dcc84df443a.b32.16\n",
      "f5e081d0b616c05ba2c77dcc84df443a.b32.17\n",
      "f5e081d0b616c05ba2c77dcc84df443a.b32.18\n",
      "f5e081d0b616c05ba2c77dcc84df443a.b32.19\n",
      "f5e081d0b616c05ba2c77dcc84df443a.b32.15\n",
      "f5e081d0b616c05ba2c77dcc84df443a.b32.16\n",
      "f5e081d0b616c05ba2c77dcc84df443a.b32.17\n",
      "f5e081d0b616c05ba2c77dcc84df443a.b32.18\n",
      "f5e081d0b616c05ba2c77dcc84df443a.b32.19\n",
      "f5e081d0b616c05ba2c77dcc84df443a.b32.15\n",
      "f5e081d0b616c05ba2c77dcc84df443a.b32.16\n",
      "f5e081d0b616c05ba2c77dcc84df443a.b32.17\n",
      "f5e081d0b616c05ba2c77dcc84df443a.b32.18\n",
      "f5e081d0b616c05ba2c77dcc84df443a.b32.19\n",
      "f5e081d0b616c05ba2c77dcc84df443a.b28.40\n",
      "f5e081d0b616c05ba2c77dcc84df443a.b11.5\n",
      "f5e081d0b616c05ba2c77dcc84df443a.b11.6\n",
      "f5e081d0b616c05ba2c77dcc84df443a.b11.7\n",
      "f5e081d0b616c05ba2c77dcc84df443a.b11.5\n",
      "f5e081d0b616c05ba2c77dcc84df443a.b11.6\n",
      "f5e081d0b616c05ba2c77dcc84df443a.b11.7\n",
      "f5e081d0b616c05ba2c77dcc84df443a.b11.5\n",
      "f5e081d0b616c05ba2c77dcc84df443a.b11.6\n",
      "f5e081d0b616c05ba2c77dcc84df443a.b11.7\n",
      "f5e081d0b616c05ba2c77dcc84df443a.b28.25\n",
      "f5e081d0b616c05ba2c77dcc84df443a.b11.10\n",
      "f5e081d0b616c05ba2c77dcc84df443a.b11.11\n",
      "f5e081d0b616c05ba2c77dcc84df443a.b11.12\n",
      "f5e081d0b616c05ba2c77dcc84df443a.b11.13\n",
      "f5e081d0b616c05ba2c77dcc84df443a.b11.10\n",
      "f5e081d0b616c05ba2c77dcc84df443a.b11.11\n",
      "f5e081d0b616c05ba2c77dcc84df443a.b11.12\n",
      "f5e081d0b616c05ba2c77dcc84df443a.b11.13\n",
      "f5e081d0b616c05ba2c77dcc84df443a.b11.10\n",
      "f5e081d0b616c05ba2c77dcc84df443a.b11.11\n",
      "f5e081d0b616c05ba2c77dcc84df443a.b11.12\n",
      "f5e081d0b616c05ba2c77dcc84df443a.b11.13\n",
      "f5e081d0b616c05ba2c77dcc84df443a.b11.10\n",
      "f5e081d0b616c05ba2c77dcc84df443a.b11.11\n",
      "f5e081d0b616c05ba2c77dcc84df443a.b11.12\n",
      "f5e081d0b616c05ba2c77dcc84df443a.b11.13\n",
      "ea781ee5a57a46b285d834708fee8c0d.b4.7\n",
      "abc4c58e9b7621b10a4732a98dc273b3.b2.3\n",
      "abc4c58e9b7621b10a4732a98dc273b3.b21.6\n",
      "abc4c58e9b7621b10a4732a98dc273b3.b24.7\n",
      "abc4c58e9b7621b10a4732a98dc273b3.b21.14\n",
      "abc4c58e9b7621b10a4732a98dc273b3.b21.19\n",
      "abc4c58e9b7621b10a4732a98dc273b3.b20.10\n",
      "abc4c58e9b7621b10a4732a98dc273b3.b18.5\n",
      "abc4c58e9b7621b10a4732a98dc273b3.b18.6\n",
      "abc4c58e9b7621b10a4732a98dc273b3.b18.8\n",
      "abc4c58e9b7621b10a4732a98dc273b3.b18.5\n",
      "abc4c58e9b7621b10a4732a98dc273b3.b18.6\n",
      "abc4c58e9b7621b10a4732a98dc273b3.b18.8\n",
      "abc4c58e9b7621b10a4732a98dc273b3.b18.5\n",
      "abc4c58e9b7621b10a4732a98dc273b3.b18.6\n",
      "abc4c58e9b7621b10a4732a98dc273b3.b18.8\n",
      "abc4c58e9b7621b10a4732a98dc273b3.b23.6\n",
      "abc4c58e9b7621b10a4732a98dc273b3.b23.7\n",
      "abc4c58e9b7621b10a4732a98dc273b3.b23.8\n",
      "abc4c58e9b7621b10a4732a98dc273b3.b23.10\n",
      "abc4c58e9b7621b10a4732a98dc273b3.b23.12\n",
      "abc4c58e9b7621b10a4732a98dc273b3.b23.14\n",
      "abc4c58e9b7621b10a4732a98dc273b3.b23.6\n",
      "abc4c58e9b7621b10a4732a98dc273b3.b23.7\n",
      "abc4c58e9b7621b10a4732a98dc273b3.b23.8\n",
      "abc4c58e9b7621b10a4732a98dc273b3.b23.10\n",
      "abc4c58e9b7621b10a4732a98dc273b3.b23.12\n",
      "abc4c58e9b7621b10a4732a98dc273b3.b23.14\n",
      "abc4c58e9b7621b10a4732a98dc273b3.b23.6\n",
      "abc4c58e9b7621b10a4732a98dc273b3.b23.7\n",
      "abc4c58e9b7621b10a4732a98dc273b3.b23.8\n",
      "abc4c58e9b7621b10a4732a98dc273b3.b23.10\n",
      "abc4c58e9b7621b10a4732a98dc273b3.b23.12\n",
      "abc4c58e9b7621b10a4732a98dc273b3.b23.14\n",
      "abc4c58e9b7621b10a4732a98dc273b3.b23.6\n",
      "abc4c58e9b7621b10a4732a98dc273b3.b23.7\n",
      "abc4c58e9b7621b10a4732a98dc273b3.b23.8\n",
      "abc4c58e9b7621b10a4732a98dc273b3.b23.10\n",
      "abc4c58e9b7621b10a4732a98dc273b3.b23.12\n",
      "abc4c58e9b7621b10a4732a98dc273b3.b23.14\n",
      "abc4c58e9b7621b10a4732a98dc273b3.b23.6\n",
      "abc4c58e9b7621b10a4732a98dc273b3.b23.7\n",
      "abc4c58e9b7621b10a4732a98dc273b3.b23.8\n",
      "abc4c58e9b7621b10a4732a98dc273b3.b23.10\n",
      "abc4c58e9b7621b10a4732a98dc273b3.b23.12\n",
      "abc4c58e9b7621b10a4732a98dc273b3.b23.14\n",
      "abc4c58e9b7621b10a4732a98dc273b3.b23.6\n",
      "abc4c58e9b7621b10a4732a98dc273b3.b23.7\n",
      "abc4c58e9b7621b10a4732a98dc273b3.b23.8\n",
      "abc4c58e9b7621b10a4732a98dc273b3.b23.10\n",
      "abc4c58e9b7621b10a4732a98dc273b3.b23.12\n",
      "abc4c58e9b7621b10a4732a98dc273b3.b23.14\n"
     ]
    },
    {
     "ename": "KeyError",
     "evalue": "'273773#1'",
     "output_type": "error",
     "traceback": [
      "\u001b[0;31m---------------------------------------------------------------------------\u001b[0m",
      "\u001b[0;31mKeyError\u001b[0m                                  Traceback (most recent call last)",
      "\u001b[0;32m<ipython-input-39-a087008a81ef>\u001b[0m in \u001b[0;36m<module>\u001b[0;34m()\u001b[0m\n\u001b[1;32m     26\u001b[0m                     \u001b[0;32mtry\u001b[0m\u001b[0;34m:\u001b[0m\u001b[0;34m\u001b[0m\u001b[0m\n\u001b[0;32m---> 27\u001b[0;31m                         \u001b[0minterpretation\u001b[0m\u001b[0;34m=\u001b[0m\u001b[0mpart_strdata\u001b[0m\u001b[0;34m[\u001b[0m\u001b[0mkey\u001b[0m\u001b[0;34m]\u001b[0m\u001b[0;34m[\u001b[0m\u001b[0mprop\u001b[0m\u001b[0;34m]\u001b[0m\u001b[0;34m\u001b[0m\u001b[0m\n\u001b[0m\u001b[1;32m     28\u001b[0m                         \u001b[0mannotated_values\u001b[0m\u001b[0;34m[\u001b[0m\u001b[0mprop\u001b[0m\u001b[0;34m]\u001b[0m\u001b[0;34m[\u001b[0m\u001b[0mphrase\u001b[0m\u001b[0;34m]\u001b[0m\u001b[0;34m.\u001b[0m\u001b[0mappend\u001b[0m\u001b[0;34m(\u001b[0m\u001b[0minterpretation\u001b[0m\u001b[0;34m)\u001b[0m\u001b[0;34m\u001b[0m\u001b[0m\n",
      "\u001b[0;31mKeyError\u001b[0m: '273773#1'",
      "\nDuring handling of the above exception, another exception occurred:\n",
      "\u001b[0;31mKeyError\u001b[0m                                  Traceback (most recent call last)",
      "\u001b[0;32m<ipython-input-39-a087008a81ef>\u001b[0m in \u001b[0;36m<module>\u001b[0;34m()\u001b[0m\n\u001b[1;32m     28\u001b[0m                         \u001b[0mannotated_values\u001b[0m\u001b[0;34m[\u001b[0m\u001b[0mprop\u001b[0m\u001b[0;34m]\u001b[0m\u001b[0;34m[\u001b[0m\u001b[0mphrase\u001b[0m\u001b[0;34m]\u001b[0m\u001b[0;34m.\u001b[0m\u001b[0mappend\u001b[0m\u001b[0;34m(\u001b[0m\u001b[0minterpretation\u001b[0m\u001b[0;34m)\u001b[0m\u001b[0;34m\u001b[0m\u001b[0m\n\u001b[1;32m     29\u001b[0m                     \u001b[0;32mexcept\u001b[0m \u001b[0mKeyError\u001b[0m\u001b[0;34m:\u001b[0m\u001b[0;34m\u001b[0m\u001b[0m\n\u001b[0;32m---> 30\u001b[0;31m                         \u001b[0mprint\u001b[0m\u001b[0;34m(\u001b[0m\u001b[0mprop\u001b[0m\u001b[0;34m,\u001b[0m \u001b[0;34m'not in'\u001b[0m\u001b[0;34m,\u001b[0m \u001b[0mpart_strdata\u001b[0m\u001b[0;34m[\u001b[0m\u001b[0mkey\u001b[0m\u001b[0;34m]\u001b[0m\u001b[0;34m)\u001b[0m\u001b[0;34m\u001b[0m\u001b[0m\n\u001b[0m\u001b[1;32m     31\u001b[0m \u001b[0;34m\u001b[0m\u001b[0m\n\u001b[1;32m     32\u001b[0m                 \u001b[0;31m#print(tokens, properties)\u001b[0m\u001b[0;34m\u001b[0m\u001b[0;34m\u001b[0m\u001b[0m\n",
      "\u001b[0;31mKeyError\u001b[0m: '273773#1'"
     ]
    }
   ],
   "source": [
    "attrs=['CauseOfDeath', 'Residence', 'EducationLevel', 'Ethnicity', 'Religion', 'BirthPlace', 'PastConviction']\n",
    "\n",
    "annotated_values={}\n",
    "for a in attrs:\n",
    "    annotated_values[a]=defaultdict(list)\n",
    "\n",
    "for f in annotation_files:\n",
    "    with open(f, 'r') as jfile:\n",
    "        annotations=json.load(jfile)\n",
    "        for inc, inc_data in annotations.items():\n",
    "            \n",
    "            for a_token, token_annotations in inc_data.items():\n",
    "\n",
    "                if 'mwu' in token_annotations:\n",
    "                    tokens=token_annotations['mwu']\n",
    "                else:\n",
    "                    tokens=[a_token]\n",
    "                \n",
    "                phrase = obtain_form_from_tokens(index, tokens)\n",
    "                if not phrase: continue\n",
    "                for pair in token_annotations['pairs']:\n",
    "                    prop = pair[1]\n",
    "                    part=pair[0]\n",
    "                    if prop=='MedicalCondition': continue\n",
    "                    key='%s#%s' % (inc, part)\n",
    "                    try:\n",
    "                        interpretation=part_strdata[key][prop]\n",
    "                        annotated_values[prop][phrase].append(interpretation)\n",
    "                    except KeyError:\n",
    "                        print(prop, 'not in', part_strdata[key])\n",
    "                    \n",
    "                #print(tokens, properties)"
   ]
  },
  {
   "cell_type": "code",
   "execution_count": 46,
   "metadata": {},
   "outputs": [],
   "source": [
    "data_to_store={}\n",
    "for prop, values in annotated_values.items():\n",
    "    data_to_store[prop]={}\n",
    "    for keyword, ints in values.items():\n",
    "        data_to_store[prop][keyword]=Counter(ints).most_common(1)[0][0]"
   ]
  },
  {
   "cell_type": "code",
   "execution_count": 47,
   "metadata": {
    "collapsed": true
   },
   "outputs": [],
   "source": [
    "with open('../resources/students.json', 'w') as w:\n",
    "    json.dump(data_to_store, w)"
   ]
  },
  {
   "cell_type": "code",
   "execution_count": null,
   "metadata": {
    "collapsed": true
   },
   "outputs": [],
   "source": []
  }
 ],
 "metadata": {
  "kernelspec": {
   "display_name": "Python 3",
   "language": "python",
   "name": "python3"
  },
  "language_info": {
   "codemirror_mode": {
    "name": "ipython",
    "version": 3
   },
   "file_extension": ".py",
   "mimetype": "text/x-python",
   "name": "python",
   "nbconvert_exporter": "python",
   "pygments_lexer": "ipython3",
   "version": "3.6.1"
  }
 },
 "nbformat": 4,
 "nbformat_minor": 2
}

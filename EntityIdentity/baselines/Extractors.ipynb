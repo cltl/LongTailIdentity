{
 "cells": [
  {
   "cell_type": "code",
   "execution_count": 1,
   "metadata": {
    "collapsed": true
   },
   "outputs": [],
   "source": [
    "# imports\n",
    "import csv\n",
    "import regex as re\n",
    "import json\n",
    "from collections import defaultdict, Counter"
   ]
  },
  {
   "cell_type": "code",
   "execution_count": 2,
   "metadata": {
    "collapsed": true
   },
   "outputs": [],
   "source": [
    "gvdb_articles_file = '../../gvdb-aggregated-db/Articles-with-extracted-info.tsv'"
   ]
  },
  {
   "cell_type": "code",
   "execution_count": 3,
   "metadata": {
    "collapsed": true
   },
   "outputs": [],
   "source": [
    "sections=['shooter-section', 'victim-section']"
   ]
  },
  {
   "cell_type": "markdown",
   "metadata": {},
   "source": [
    "### 0. Load coreference"
   ]
  },
  {
   "cell_type": "code",
   "execution_count": 4,
   "metadata": {},
   "outputs": [],
   "source": [
    "import en_coref_md\n",
    "nlp = en_coref_md.load()"
   ]
  },
  {
   "cell_type": "markdown",
   "metadata": {},
   "source": [
    "### 1. General purpose functions\n",
    "\n",
    "#### 1a. Generate frequency counts"
   ]
  },
  {
   "cell_type": "code",
   "execution_count": 5,
   "metadata": {
    "collapsed": true
   },
   "outputs": [],
   "source": [
    "def get_most_frequent_words(rdr, attribute):\n",
    "    frequency_count=defaultdict(int)\n",
    "    for row in rdr:\n",
    "        data=json.loads(row[3])\n",
    "        for s in sections:\n",
    "            for participant in data[s]:\n",
    "                if participant[attribute]['value']:\n",
    "                    value=participant[attribute]['value'].strip()\n",
    "                    frequency_count[value]+=1\n",
    "    return Counter(frequency_count).most_common(50)"
   ]
  },
  {
   "cell_type": "code",
   "execution_count": 6,
   "metadata": {
    "collapsed": true
   },
   "outputs": [],
   "source": [
    "frequency_count={}\n",
    "with open(gvdb_articles_file, 'r') as csvfile:\n",
    "    rdr = csv.reader(csvfile, delimiter='\\t', quotechar='\"')\n",
    "    header=next(rdr)\n",
    "    frequency_count['race']=get_most_frequent_words(rdr, 'race')"
   ]
  },
  {
   "cell_type": "code",
   "execution_count": 70,
   "metadata": {},
   "outputs": [],
   "source": [
    "races={'black', 'latino', 'white', 'hispanic', 'asian', 'latina', \n",
    "       'african american', 'filipino', 'african-american', 'latinos',\n",
    "      'palestinian', 'chinese-american', 'blacks', 'german-iranian'}\n",
    "\n",
    "#genders={'male': {'he', 'boy', 'man', 'dude', 'guy', 'male'}, 'female': {'girl', 'woman', 'female'}}\n",
    "\n",
    "genders={'he': 'male', \n",
    "         'boy': 'male', \n",
    "         'man': 'male', \n",
    "         'dude': 'male',\n",
    "         'guy': 'male',\n",
    "         'male': 'male',\n",
    "         'brother': 'male',\n",
    "         'father': 'male',\n",
    "         'him': 'male',\n",
    "         'himself': 'male',\n",
    "         'she': 'female',\n",
    "         'girl': 'female',\n",
    "         'woman': 'female',\n",
    "         'female': 'female',\n",
    "         'sister': 'female',\n",
    "         'mother': 'female',\n",
    "         'her': 'female',\n",
    "         'herself': 'female'}"
   ]
  },
  {
   "cell_type": "code",
   "execution_count": 34,
   "metadata": {
    "collapsed": true
   },
   "outputs": [],
   "source": [
    "def get_participant_info(data):\n",
    "    part_info={}\n",
    "    for s in sections:\n",
    "        for participant in data[s]:\n",
    "            if participant['name']['value']:\n",
    "                name=participant['name']['value'].strip()\n",
    "                if name in part_info:\n",
    "                    continue\n",
    "                info={}\n",
    "                if participant['gender']:\n",
    "                    info['gender']=participant['gender']\n",
    "                if participant['age']['value']:\n",
    "                    info['age']=participant['age']['value']\n",
    "                if participant['race']['value']:\n",
    "                    info['race']=participant['race']['value']\n",
    "                part_info[name]=info\n",
    "    return part_info"
   ]
  },
  {
   "cell_type": "code",
   "execution_count": 35,
   "metadata": {
    "collapsed": true
   },
   "outputs": [],
   "source": [
    "def get_people_spans(names, text):\n",
    "    spans=defaultdict(list)\n",
    "    for name in names:\n",
    "        oc=[[m.start(),m.end()] for m in re.finditer(re.escape(name), text)]\n",
    "        spans[name]=oc\n",
    "    return spans"
   ]
  },
  {
   "cell_type": "code",
   "execution_count": 36,
   "metadata": {
    "collapsed": true
   },
   "outputs": [],
   "source": [
    "def stringify(mentions):\n",
    "    stringy=[]\n",
    "    for m in mentions:\n",
    "        stringy.append(m.text)\n",
    "    return stringy"
   ]
  },
  {
   "cell_type": "code",
   "execution_count": 42,
   "metadata": {
    "collapsed": true
   },
   "outputs": [],
   "source": [
    "def get_coref_spans(names, text):\n",
    "    doc = nlp(text)\n",
    "    \n",
    "    spans=get_people_spans(names, text)\n",
    "    \n",
    "    if not doc._.has_coref:\n",
    "        return spans, None\n",
    "\n",
    "    clusters=doc._.coref_clusters\n",
    "    for c in clusters:\n",
    "        mentions=stringify(c.mentions)\n",
    "        for person_name in names:\n",
    "            if person_name in mentions:\n",
    "                for m in c.mentions:\n",
    "                    oc=[m.start_char, m.end_char]\n",
    "                    if oc not in spans[person_name]:\n",
    "                        spans[person_name].append(oc)\n",
    "    return spans, clusters"
   ]
  },
  {
   "cell_type": "code",
   "execution_count": 38,
   "metadata": {
    "collapsed": true
   },
   "outputs": [],
   "source": [
    "def find_closest_person(attr_span, people_spans):\n",
    "    min_dist=10\n",
    "    closest_person=None\n",
    "    for name, person_spans in people_spans.items():\n",
    "        for ps in person_spans:\n",
    "            # make sure to exclude cases where the attribute and the name overlap\n",
    "            if (ps[0]<=attr_span[0] and ps[1]>=attr_span[1]) or (attr_span[0]<=ps[0] and attr_span[1]>=ps[1]):\n",
    "                continue\n",
    "            if ps[0]<attr_span[0]: # person mentioned before the attribute\n",
    "                dist=attr_span[0]-ps[1]\n",
    "            else: # person mentioned after the attribute\n",
    "                dist=ps[0]-attr_span[1]\n",
    "            if dist<min_dist:\n",
    "                min_dist=dist\n",
    "                closest_person=name\n",
    "    return closest_person, min_dist"
   ]
  },
  {
   "cell_type": "code",
   "execution_count": 39,
   "metadata": {
    "collapsed": true
   },
   "outputs": [],
   "source": [
    "def get_closest_value_per_person(pairs):\n",
    "    clean_pairs={}\n",
    "    for person, person_pairs in pairs.items():\n",
    "        clean_pairs[person]=sorted(person_pairs)[0][1]\n",
    "    return clean_pairs"
   ]
  },
  {
   "cell_type": "code",
   "execution_count": 40,
   "metadata": {
    "collapsed": true
   },
   "outputs": [],
   "source": [
    "def attr_values_extractor(text, people_spans, patterns):\n",
    "    \n",
    "    #people_spans=get_people_spans(names, text)\n",
    "    extracted_pairs=defaultdict(list)\n",
    "    \n",
    "    for pattern in patterns:\n",
    "        r=re.compile(pattern, re.IGNORECASE)\n",
    "        values=r.finditer(text)\n",
    "        for val_found in values:\n",
    "            span=val_found.span()\n",
    "            value=val_found.group()\n",
    "            #print(span, value)\n",
    "            value=value.replace('-year-old', '').replace(',', '').strip()\n",
    "            person, distance=find_closest_person(span, people_spans)\n",
    "            if person:\n",
    "                extracted_pairs[person].append(tuple([distance, value]))\n",
    "    clean_pairs=get_closest_value_per_person(extracted_pairs)\n",
    "    return clean_pairs"
   ]
  },
  {
   "cell_type": "code",
   "execution_count": 41,
   "metadata": {
    "collapsed": true
   },
   "outputs": [],
   "source": [
    "def age_extractor(text, people_spans):\n",
    "    patterns=[r'\\d\\d?-year-old', r', \\d\\d?']\n",
    "    return attr_values_extractor(text, people_spans, patterns)"
   ]
  },
  {
   "cell_type": "code",
   "execution_count": 16,
   "metadata": {
    "collapsed": true
   },
   "outputs": [],
   "source": [
    "def race_extractor(text, people_spans):\n",
    "    patterns=set()\n",
    "    for race in races:\n",
    "        patterns.add(r'\\b%s\\b' % race)\n",
    "    return attr_values_extractor(text, people_spans, patterns)"
   ]
  },
  {
   "cell_type": "code",
   "execution_count": 65,
   "metadata": {
    "collapsed": true
   },
   "outputs": [],
   "source": [
    "def lookup_person_in_list(name, ments):\n",
    "    for m in ments:\n",
    "        if name in m:\n",
    "            return True\n",
    "    return False"
   ]
  },
  {
   "cell_type": "code",
   "execution_count": 80,
   "metadata": {
    "collapsed": true
   },
   "outputs": [],
   "source": [
    "def gender_extractor(clusters, names): #, text, people_spans):\n",
    "    person_genders=defaultdict(list)\n",
    "    for c in clusters:\n",
    "        mentions=stringify(c.mentions)\n",
    "        for person_name in names:\n",
    "            if lookup_person_in_list(person_name, mentions):\n",
    "                for m in c.mentions:\n",
    "                    for txt in [m.text, m.lemma_]:\n",
    "                        if txt.lower() in genders.keys():\n",
    "                            person_genders[person_name].append(genders[txt.lower()])\n",
    "                            \n",
    "    clean_genders={}\n",
    "    for person_name, gs in person_genders.items():\n",
    "        c=Counter(gs).most_common(1)[0][0]\n",
    "        clean_genders[person_name]=c\n",
    "    return clean_genders"
   ]
  },
  {
   "cell_type": "code",
   "execution_count": 81,
   "metadata": {
    "collapsed": true
   },
   "outputs": [],
   "source": [
    "def singularize_data(extractors_json):\n",
    "    result=defaultdict(dict)\n",
    "    for attribute, extracted in extractors_json.items():\n",
    "        for name, value in extracted.items():\n",
    "            result[name][attribute]=value\n",
    "    return dict(result)"
   ]
  },
  {
   "cell_type": "code",
   "execution_count": 82,
   "metadata": {},
   "outputs": [
    {
     "name": "stdout",
     "output_type": "stream",
     "text": [
      "{'Joe Henderson': {'gender': 'Male', 'age': '26'}} \n",
      " {'Joe Henderson': {'age': '26', 'gender': 'male'}}\n",
      "continue?\n",
      "{'Joe Henderson': {'gender': 'Male', 'age': '26'}} \n",
      " {'Joe Henderson': {'age': '26', 'gender': 'male'}}\n",
      "continue?\n",
      "{'Joe Henderson': {'gender': 'Male', 'age': '26'}} \n",
      " {'Joe Henderson': {'age': '26', 'gender': 'male'}}\n",
      "continue?\n",
      "{'Eight law enforcement officers': {}, 'Jean Falgout': {'gender': 'Male', 'age': '45-year-old'}} \n",
      " {}\n",
      "continue?\n",
      "{'Joe Henderson': {'gender': 'Male', 'age': '26-year-old'}} \n",
      " {'Joe Henderson': {'age': '26', 'gender': 'male'}}\n",
      "continue?\n",
      "{'Joe Henderson': {'gender': 'Male', 'age': '26-year-old'}} \n",
      " {'Joe Henderson': {'age': '26', 'gender': 'male'}}\n",
      "continue?\n",
      "{'Joe Henderson': {'gender': 'Male', 'age': '26-year-old'}} \n",
      " {'Joe Henderson': {'age': '26', 'gender': 'male'}}\n",
      "continue?\n",
      "{'Joe Henderson': {'gender': 'Male', 'age': '26'}} \n",
      " {'Joe Henderson': {'age': '26', 'gender': 'male'}}\n",
      "continue?\n",
      "{'Joe Henderson': {'gender': 'Male', 'age': '26'}} \n",
      " {'Joe Henderson': {'age': '26', 'gender': 'male'}}\n",
      "continue?\n",
      "{'Luxury Vance': {'gender': 'Female', 'age': '12-year-old'}} \n",
      " {}\n",
      "continue?\n",
      "{'Joe Henderson': {'gender': 'Male', 'age': '26-year-old'}} \n",
      " {'Joe Henderson': {'age': '26', 'gender': 'male'}}\n",
      "continue?\n",
      "{'Sean Bolton': {'gender': 'Male', 'age': '33,'}} \n",
      " {'Sean Bolton': {'age': '33', 'gender': 'male'}}\n",
      "continue?\n",
      "{'Joe Henderson': {'gender': 'Male', 'age': '26-year-old'}} \n",
      " {'Joe Henderson': {'age': '26', 'gender': 'male'}}\n",
      "continue?\n",
      "{'Joe Henderson': {'age': '26'}} \n",
      " {'Joe Henderson': {'age': '26', 'gender': 'male'}}\n",
      "continue?\n",
      "{'Joe Henderson': {'age': ' 26-year-old'}} \n",
      " {'Joe Henderson': {'age': '26', 'gender': 'male'}}\n",
      "continue?\n",
      "{'Joe Henderson': {'gender': 'Male', 'age': '26-year-old'}} \n",
      " {'Joe Henderson': {'age': '26', 'gender': 'male'}}\n",
      "continue?\n",
      "{'Joe Henderson': {'gender': 'Male', 'age': '26-year-old'}} \n",
      " {'Joe Henderson': {'age': '26', 'gender': 'male'}}\n",
      "continue?\n",
      "{'Joe Henderson': {'gender': 'Male', 'age': '26'}} \n",
      " {'Joe Henderson': {'age': '26', 'gender': 'male'}}\n",
      "continue?\n",
      "{'Joe Henderson': {'gender': 'Male', 'age': ' 26'}} \n",
      " {'Joe Henderson': {'age': '26', 'gender': 'male'}}\n",
      "continue?\n",
      "{'Joe Henderson': {'gender': 'Male', 'age': '26-year-old'}} \n",
      " {'Joe Henderson': {'age': '26', 'gender': 'male'}}\n",
      "continue?\n",
      "{'Joe Henderson': {'age': '26-year-old '}} \n",
      " {'Joe Henderson': {'age': '26', 'gender': 'male'}}\n",
      "continue?\n",
      "{'Sean Bolton': {'gender': 'Male', 'age': '33-year-old'}} \n",
      " {'Sean Bolton': {'age': '33', 'gender': 'male'}}\n",
      "continue?\n",
      "{'Renea Lloyd': {'age': '41'}} \n",
      " {'Renea Lloyd': {'age': '41'}}\n",
      "continue?\n",
      "{'Joe Henderson': {'gender': 'Male', 'age': '26-year-old '}} \n",
      " {'Joe Henderson': {'age': '26', 'gender': 'male'}}\n",
      "continue?\n",
      "{'Alexander Jewell': {'age': '23'}, 'Michael Robinson': {'age': '31'}} \n",
      " {'Alexander Jewell': {'age': '23'}, 'Michael Robinson': {'age': '31'}}\n",
      "continue?\n",
      "{'Joe Henderson': {'gender': 'Male', 'age': '26'}} \n",
      " {'Joe Henderson': {'age': '26', 'gender': 'male'}}\n",
      "continue?\n",
      "{'Joe Henderson': {'gender': 'Male', 'age': '26-year-old'}} \n",
      " {'Joe Henderson': {'age': '26', 'gender': 'male'}}\n",
      "continue?\n",
      "{'Tremaine Wilbourn': {'gender': 'Male', 'age': '29'}, 'Sean Bolton': {'gender': 'Male', 'age': '33-year-old '}} \n",
      " {'Sean Bolton': {'age': '33', 'gender': 'male'}, 'Tremaine Wilbourn': {'age': '29'}}\n",
      "continue?\n",
      "{'Joe Henderson': {'gender': 'Male'}} \n",
      " {'Joe Henderson': {'age': '26', 'gender': 'male'}}\n",
      "continue?\n",
      "{'Joe Henderson': {'gender': 'Male', 'age': '26'}} \n",
      " {'Joe Henderson': {'age': '26', 'gender': 'male'}}\n",
      "continue?\n",
      "{'Joe Henderson': {'gender': 'Male', 'age': ' 26-year-old'}} \n",
      " {'Joe Henderson': {'age': '26', 'gender': 'male'}}\n",
      "continue?\n"
     ]
    },
    {
     "ename": "TypeError",
     "evalue": "'NoneType' object is not iterable",
     "output_type": "error",
     "traceback": [
      "\u001b[0;31m---------------------------------------------------------------------------\u001b[0m",
      "\u001b[0;31mTypeError\u001b[0m                                 Traceback (most recent call last)",
      "\u001b[0;32m<ipython-input-82-b5580dfd4b0b>\u001b[0m in \u001b[0;36m<module>\u001b[0;34m()\u001b[0m\n\u001b[1;32m     12\u001b[0m         \u001b[0mage_extracted\u001b[0m\u001b[0;34m=\u001b[0m\u001b[0mage_extractor\u001b[0m\u001b[0;34m(\u001b[0m\u001b[0mfull_text\u001b[0m\u001b[0;34m,\u001b[0m\u001b[0mpeople_spans\u001b[0m\u001b[0;34m)\u001b[0m\u001b[0;34m\u001b[0m\u001b[0m\n\u001b[1;32m     13\u001b[0m         \u001b[0mrace_extracted\u001b[0m\u001b[0;34m=\u001b[0m\u001b[0mrace_extractor\u001b[0m\u001b[0;34m(\u001b[0m\u001b[0mfull_text\u001b[0m\u001b[0;34m,\u001b[0m\u001b[0mpeople_spans\u001b[0m\u001b[0;34m)\u001b[0m\u001b[0;34m\u001b[0m\u001b[0m\n\u001b[0;32m---> 14\u001b[0;31m         \u001b[0mgender_extracted\u001b[0m\u001b[0;34m=\u001b[0m\u001b[0mgender_extractor\u001b[0m\u001b[0;34m(\u001b[0m\u001b[0mclusters\u001b[0m\u001b[0;34m,\u001b[0m \u001b[0mnames\u001b[0m\u001b[0;34m)\u001b[0m\u001b[0;34m\u001b[0m\u001b[0m\n\u001b[0m\u001b[1;32m     15\u001b[0m         \u001b[0mall_extracted\u001b[0m\u001b[0;34m=\u001b[0m\u001b[0;34m{\u001b[0m\u001b[0;34m'age'\u001b[0m\u001b[0;34m:\u001b[0m \u001b[0mage_extracted\u001b[0m\u001b[0;34m,\u001b[0m \u001b[0;34m'race'\u001b[0m\u001b[0;34m:\u001b[0m \u001b[0mrace_extracted\u001b[0m\u001b[0;34m,\u001b[0m \u001b[0;34m'gender'\u001b[0m\u001b[0;34m:\u001b[0m \u001b[0mgender_extracted\u001b[0m\u001b[0;34m}\u001b[0m\u001b[0;34m\u001b[0m\u001b[0m\n\u001b[1;32m     16\u001b[0m         \u001b[0mcombined\u001b[0m\u001b[0;34m=\u001b[0m\u001b[0msingularize_data\u001b[0m\u001b[0;34m(\u001b[0m\u001b[0mall_extracted\u001b[0m\u001b[0;34m)\u001b[0m\u001b[0;34m\u001b[0m\u001b[0m\n",
      "\u001b[0;32m<ipython-input-80-3ea45b94b0eb>\u001b[0m in \u001b[0;36mgender_extractor\u001b[0;34m(clusters, names)\u001b[0m\n\u001b[1;32m      1\u001b[0m \u001b[0;32mdef\u001b[0m \u001b[0mgender_extractor\u001b[0m\u001b[0;34m(\u001b[0m\u001b[0mclusters\u001b[0m\u001b[0;34m,\u001b[0m \u001b[0mnames\u001b[0m\u001b[0;34m)\u001b[0m\u001b[0;34m:\u001b[0m \u001b[0;31m#, text, people_spans):\u001b[0m\u001b[0;34m\u001b[0m\u001b[0m\n\u001b[1;32m      2\u001b[0m     \u001b[0mperson_genders\u001b[0m\u001b[0;34m=\u001b[0m\u001b[0mdefaultdict\u001b[0m\u001b[0;34m(\u001b[0m\u001b[0mlist\u001b[0m\u001b[0;34m)\u001b[0m\u001b[0;34m\u001b[0m\u001b[0m\n\u001b[0;32m----> 3\u001b[0;31m     \u001b[0;32mfor\u001b[0m \u001b[0mc\u001b[0m \u001b[0;32min\u001b[0m \u001b[0mclusters\u001b[0m\u001b[0;34m:\u001b[0m\u001b[0;34m\u001b[0m\u001b[0m\n\u001b[0m\u001b[1;32m      4\u001b[0m         \u001b[0mmentions\u001b[0m\u001b[0;34m=\u001b[0m\u001b[0mstringify\u001b[0m\u001b[0;34m(\u001b[0m\u001b[0mc\u001b[0m\u001b[0;34m.\u001b[0m\u001b[0mmentions\u001b[0m\u001b[0;34m)\u001b[0m\u001b[0;34m\u001b[0m\u001b[0m\n\u001b[1;32m      5\u001b[0m         \u001b[0;32mfor\u001b[0m \u001b[0mperson_name\u001b[0m \u001b[0;32min\u001b[0m \u001b[0mnames\u001b[0m\u001b[0;34m:\u001b[0m\u001b[0;34m\u001b[0m\u001b[0m\n",
      "\u001b[0;31mTypeError\u001b[0m: 'NoneType' object is not iterable"
     ]
    }
   ],
   "source": [
    "with open(gvdb_articles_file, 'r') as csvfile:\n",
    "    rdr = csv.reader(csvfile, delimiter='\\t', quotechar='\"')\n",
    "    header=next(rdr)\n",
    "    for row in rdr:\n",
    "        data=json.loads(row[3])\n",
    "        part_info=get_participant_info(data)\n",
    "        names=set(part_info.keys())\n",
    "        if not len(names): continue\n",
    "        full_text=row[2]\n",
    "        people_spans, clusters=get_coref_spans(names, full_text)\n",
    "        #print(people_spans)\n",
    "        age_extracted=age_extractor(full_text,people_spans)\n",
    "        race_extracted=race_extractor(full_text,people_spans)\n",
    "        gender_extracted=gender_extractor(clusters, names)\n",
    "        all_extracted={'age': age_extracted, 'race': race_extracted, 'gender': gender_extracted}\n",
    "        combined=singularize_data(all_extracted)\n",
    "#        if len(race_extracted.keys()):\n",
    "        print(part_info, '\\n', combined)\n",
    "        input('continue?')"
   ]
  },
  {
   "cell_type": "markdown",
   "metadata": {
    "collapsed": true
   },
   "source": [
    "#### Improvements:\n",
    "* integrate coreference\n",
    "* make sure that the boundaries don't overlap, or even add PoS tagging\n",
    "* more extractors (gender, religion, residence, etc.)"
   ]
  },
  {
   "cell_type": "code",
   "execution_count": null,
   "metadata": {
    "collapsed": true
   },
   "outputs": [],
   "source": []
  },
  {
   "cell_type": "code",
   "execution_count": null,
   "metadata": {
    "collapsed": true
   },
   "outputs": [],
   "source": []
  }
 ],
 "metadata": {
  "kernelspec": {
   "display_name": "Python 3",
   "language": "python",
   "name": "python3"
  },
  "language_info": {
   "codemirror_mode": {
    "name": "ipython",
    "version": 3
   },
   "file_extension": ".py",
   "mimetype": "text/x-python",
   "name": "python",
   "nbconvert_exporter": "python",
   "pygments_lexer": "ipython3",
   "version": "3.6.1"
  }
 },
 "nbformat": 4,
 "nbformat_minor": 2
}
